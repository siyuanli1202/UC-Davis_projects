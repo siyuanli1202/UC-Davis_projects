{
 "cells": [
  {
   "cell_type": "markdown",
   "metadata": {},
   "source": [
    "# STA 141B Assignment 4\n",
    "\n",
    "Due __Feb 22, 2019__ by 11:59pm. Submit by editing this file, committing the changes with git, and then pushing to your private GitHub repo for the assignment. This assignment will be graded according to the class rubric.\n",
    "\n",
    "Please do not rename this file or delete the exercise cells, because it will interfere with our grading tools. Put your answers in new cells after each exercise. You can make as many new cells as you like. Use code cells for code and Markdown cells for text. Answer all questions with complete sentences.\n",
    "\n",
    "The purpose of this assignment is to practice scraping data from web pages."
   ]
  },
  {
   "cell_type": "markdown",
   "metadata": {},
   "source": [
    "## The San Francisco Chronicle\n",
    "\n",
    "In this assignment, you'll scrape text from [The San Francisco Chronicle](https://www.sfchronicle.com/) newspaper and then analyze the text.\n",
    "\n",
    "The Chronicle is organized by category into article lists. For example, there's a [Local](https://www.sfchronicle.com/local/) list, [Sports](https://www.sfchronicle.com/sports/) list, and [Food](https://www.sfchronicle.com/food/) list.\n",
    "\n",
    "The goal of exercises 1.1 - 1.3 is to scrape articles from the Chronicle for analysis in exercise 1.4."
   ]
  },
  {
   "cell_type": "markdown",
   "metadata": {},
   "source": [
    "### *Import Libraries:\n"
   ]
  },
  {
   "cell_type": "code",
   "execution_count": 3,
   "metadata": {},
   "outputs": [
    {
     "name": "stderr",
     "output_type": "stream",
     "text": [
      "[nltk_data] Downloading package stopwords to\n",
      "[nltk_data]     /Users/Sssiyuan/nltk_data...\n",
      "[nltk_data]   Package stopwords is already up-to-date!\n",
      "[nltk_data] Downloading package gutenberg to\n",
      "[nltk_data]     /Users/Sssiyuan/nltk_data...\n",
      "[nltk_data]   Package gutenberg is already up-to-date!\n",
      "[nltk_data] Downloading package punkt to /Users/Sssiyuan/nltk_data...\n",
      "[nltk_data]   Package punkt is already up-to-date!\n"
     ]
    }
   ],
   "source": [
    "import numpy as np\n",
    "import pandas as pd\n",
    "import lxml.html as lx\n",
    "import requests\n",
    "import requests_cache\n",
    "import re\n",
    "import nltk\n",
    "import nltk.corpus as corpus\n",
    "import matplotlib.pyplot as plt\n",
    "%matplotlib inline\n",
    "nltk.download('stopwords')\n",
    "nltk.download(\"gutenberg\")\n",
    "nltk.download(\"punkt\")\n",
    "requests_cache.install_cache(\"sfcache\")"
   ]
  },
  {
   "cell_type": "markdown",
   "metadata": {
    "tags": [
     "exercise"
    ]
   },
   "source": [
    "__Exercise 1.1.__ Write a function that extracts all of the links to articles in a Chronicle article list. The function should:\n",
    "\n",
    "* Have a parameter `url` for the URL of the article list.\n",
    "\n",
    "* Return a list of article URLs (each URL should be a string).\n",
    "\n",
    "Test your function on 2-3 different categories to make sure it works.\n",
    "\n",
    "Hints:\n",
    "\n",
    "* Be polite and save time by setting up [requests_cache](https://pypi.python.org/pypi/requests-cache) before you write your function.\n",
    "\n",
    "* You can use any of the XML/HTML parsing packages mentioned in class. Choose one and use it throughout the entire assignment."
   ]
  },
  {
   "cell_type": "markdown",
   "metadata": {},
   "source": [
    "### 1.1 Function Design:"
   ]
  },
  {
   "cell_type": "code",
   "execution_count": 4,
   "metadata": {},
   "outputs": [],
   "source": [
    "# Define a function called get_url\n",
    "def get_url(url):\n",
    "    \"\"\"\n",
    "    The function is designed to return all the links of articles in a Chronicle article list given a based url.\n",
    "    The function asked one parameter:\n",
    "    * url: the URL of a main page user want to search\n",
    "    \"\"\"\n",
    "    # Download the page\n",
    "    response = requests.get(url)\n",
    "    try:\n",
    "         response.raise_for_status()\n",
    "    except:\n",
    "         print(\"The url cannot be downloaded!\")\n",
    "    \n",
    "    # Parse the HTML\n",
    "    html = lx.fromstring(response.text)\n",
    "    html.make_links_absolute(url)\n",
    "    html\n",
    "    \n",
    "    # Get the links\n",
    "    links = html.xpath(\"//a[contains(@href,'article')]/@href\")\n",
    "    links = list(set(links))\n",
    "    \n",
    "    # Convert each URL into string type\n",
    "    links = [str(l) for l in links]\n",
    "     \n",
    "    return links"
   ]
  },
  {
   "cell_type": "markdown",
   "metadata": {},
   "source": [
    "### 1.1 Check Function Result:"
   ]
  },
  {
   "cell_type": "code",
   "execution_count": 5,
   "metadata": {},
   "outputs": [
    {
     "data": {
      "text/plain": [
       "['https://www.sfchronicle.com/bayarea/article/She-had-vision-and-drive-but-job-loss-could-have-13500895.php',\n",
       " 'https://www.sfchronicle.com/crime/article/Gov-Newsom-orders-more-DNA-tests-in-disputed-13637172.php',\n",
       " 'https://www.sfchronicle.com/crime/article/50-people-arrested-in-Tenderloin-dragnet-focused-13634837.php',\n",
       " 'https://www.sfchronicle.com/california-wildfires/article/As-terror-of-wildfire-fades-survivors-face-new-13279744.php',\n",
       " 'https://www.sfchronicle.com/bayarea/article/As-workers-and-students-struggle-food-banks-are-13458905.php',\n",
       " 'https://www.sfchronicle.com/crime/article/Officer-in-Willie-McCoy-shooting-killed-another-13632671.php',\n",
       " 'https://www.sfchronicle.com/politics/article/Bay-Area-political-events-Legislators-town-13637118.php',\n",
       " 'https://www.sfchronicle.com/bayarea/article/Single-mom-s-dream-tripped-up-by-volcano-Marin-13443142.php',\n",
       " 'https://www.sfchronicle.com/politics/article/California-Republicans-hope-their-next-leader-can-13634407.php',\n",
       " 'https://www.sfchronicle.com/bayarea/heatherknight/article/SF-General-s-insured-patients-suffer-further-13543542.php']"
      ]
     },
     "execution_count": 5,
     "metadata": {},
     "output_type": "execute_result"
    }
   ],
   "source": [
    "# 1.Test local link:(The San Francisco Chronicle)\n",
    "res=get_url(\"https://www.sfchronicle.com/local/\")\n",
    "res[:10]"
   ]
  },
  {
   "cell_type": "code",
   "execution_count": 6,
   "metadata": {
    "scrolled": true
   },
   "outputs": [
    {
     "data": {
      "text/plain": [
       "['https://www.sfchronicle.com/sports/ostler/article/Will-any-NFL-team-sign-Colin-Kaepernick-13631848.php',\n",
       " 'https://www.sfchronicle.com/collegesports/article/Arizona-State-s-Rob-Edwards-proves-too-much-for-13632683.php',\n",
       " 'https://www.sfchronicle.com/collegesports/article/Ugly-offense-skid-reaches-15-13635895.php',\n",
       " 'https://www.sfchronicle.com/athletics/article/A-s-rotation-hopeful-Daniel-Mengden-is-lighter-13634280.php',\n",
       " 'https://www.sfchronicle.com/warriors/article/DeMarcus-Cousins-calls-NCAA-bullsh-13634670.php',\n",
       " 'https://www.sfchronicle.com/travel/article/The-good-and-bad-from-recent-storms-13624281.php',\n",
       " 'https://www.sfchronicle.com/sports/article/Sacred-Heart-Cathedral-stuns-top-seeded-Mitty-13621736.php',\n",
       " 'https://www.sfchronicle.com/sports/article/Don-t-be-deceived-by-11-14-record-of-Sacred-13626119.php',\n",
       " 'https://www.sfchronicle.com/sports/article/Warriors-hold-off-Kings-13635977.php',\n",
       " 'https://www.sfchronicle.com/sharks/article/Flames-prevail-to-extend-lead-over-Sharks-13632752.php']"
      ]
     },
     "execution_count": 6,
     "metadata": {},
     "output_type": "execute_result"
    }
   ],
   "source": [
    "# 2. Test sports link:(The San Francisco Chronicle)\n",
    "res=get_url(\"https://www.sfchronicle.com/sports/\")\n",
    "res[:10]"
   ]
  },
  {
   "cell_type": "markdown",
   "metadata": {
    "tags": [
     "exercise"
    ]
   },
   "source": [
    "__Exercise 1.2.__ Write a function that extracts data from a Chronicle article. The function should:\n",
    "\n",
    "* Have a parameter `url` for the URL of the article.\n",
    "\n",
    "* Return a dictionary with keys for:\n",
    "    + `url`: The URL of the article.\n",
    "    + `title`: The title of the article.\n",
    "    + `text`: The complete text of the article.\n",
    "    + `author`: The author's name (if available) or a suitable missing value.\n",
    "    + `date`: The date and time the article was published.\n",
    "    + `date_updated`: The date and time the article was last updated (if available) or a suitable missing value.\n",
    "\n",
    "For example, for [this article](https://www.sfchronicle.com/homeandgarden/article/Gardenlust-looks-at-best-21st-century-13580871.php) your function should return a dictionary with the form:\n",
    "```js\n",
    "{'url': 'https://www.sfchronicle.com/homeandgarden/article/Gardenlust-looks-at-best-21st-century-13580871.php',\n",
    " 'title': '‘Gardenlust’ looks at best 21st century gardens in the world',\n",
    " 'text': 'The book...',\n",
    " 'author': 'Pam Peirce',\n",
    " 'date': '2019-02-01T18:02:33+00:00',\n",
    " 'date_updated': '2019-02-01T18:12:53+00:00'}\n",
    "```\n",
    "The value of the `text` field is omitted here to save space. Your function should return the full text in the `text` field.\n",
    "\n",
    "Hints:\n",
    "\n",
    "* Many parsing packages allow you to delete elements from an HTML document. Deleting elements is one way to avoid extracting unwanted tags.\n",
    "* You can union multiple XPath paths with `|`."
   ]
  },
  {
   "cell_type": "markdown",
   "metadata": {},
   "source": [
    "### 1.2 Function Design:"
   ]
  },
  {
   "cell_type": "code",
   "execution_count": 7,
   "metadata": {},
   "outputs": [],
   "source": [
    "# Define an auxiliary function called rid that Remove the extra space and newlines\n",
    "def rid(x):\n",
    "    regex=re.compile(r\"\\s+\")\n",
    "    return regex.sub(\" \", x)"
   ]
  },
  {
   "cell_type": "code",
   "execution_count": 8,
   "metadata": {},
   "outputs": [],
   "source": [
    "# Define a function called get_info(main function to collect article's summary):\n",
    "def get_info(url):\n",
    "    \"\"\"\n",
    "    The function is designed to return six basic information of an article given the article url\n",
    "    The returned information are: Url, Title, Text, Author, Date Published and Date Modified\n",
    "    * url: the URL of a single web page.\n",
    "    \"\"\"\n",
    "    \n",
    "    # Download the page\n",
    "    response = requests.get(url)\n",
    "    response.raise_for_status()\n",
    "    \n",
    "    # Parse the HTML\n",
    "    html = lx.fromstring(response.text)\n",
    "    html.make_links_absolute(url)\n",
    "    html\n",
    "    \n",
    "    # 1.Get Title:\n",
    "    title=html.xpath(\"//h1[starts-with(@class,'head')]\")[0]\n",
    "    title=title.text_content()\n",
    "    \n",
    "    # 2.Get Text:\n",
    "    text=[x.text_content() for x in html.xpath(\"//section[@class='body']/p| \\\n",
    "                                                //div[@class='article-body']/p| \\\n",
    "                                                //section[@class='body']\")]\n",
    "    text=[str(t) for t in text]\n",
    "    text=\"\\n\".join(text)   # give a new line for a paragraph\n",
    "    text=text.strip()\n",
    "    text=rid(text)\n",
    "    if not text:\n",
    "        text=\"Non-avaiable\"\n",
    "    \n",
    "    # 3.Get Author: (--we have three levels here--)\n",
    "    # * The first level is related to the general form of articles                       \n",
    "    try:\n",
    "        author=html.xpath(\"//span[@itemprop='name']\")[0]\n",
    "        author=author.text_content()\n",
    "        author=str(author)        \n",
    "    # * The second level is related to some approximately standardized format articles\n",
    "    except IndexError:\n",
    "        try: \n",
    "            author=html.xpath(\"//span[contains(@class,'byline')]\")[0]\n",
    "            author=author.text_content()\n",
    "            author=author.strip()\n",
    "            author=author.replace('\\n','')\n",
    "            author=str(author.title())\n",
    "            author=re.sub('By','',author)\n",
    "            author=author.split(\",\")[0]\n",
    "            if not author:\n",
    "                author=\"Non-avaiable\"\n",
    "    # * The third level is related to a series of special format articles(photos on top)      \n",
    "        except IndexError:\n",
    "            try:\n",
    "                author=html.xpath(\"//a[contains(@href,'author')]\")[0]            \n",
    "                author=author.text_content()\n",
    "                author=str(author)\n",
    "            except IndexError:\n",
    "                author=\"Non-avaiable\"\n",
    "        \n",
    "    # 4.Get date (article publised)\n",
    "    date=html.xpath(\"//time[@itemprop='datePublished']/@datetime| \\\n",
    "                    //meta[@name='article:published_time']/@content\")\n",
    "    if not date:\n",
    "        date=\"Non-avaiable\"\n",
    "    else:\n",
    "        date=date[0]\n",
    "    \n",
    "    # 5.Get date_updated (article modified)\n",
    "    date_updated=html.xpath(\"//time[@itemprop='dateModified']/@datetime| \\\n",
    "                            //meta[@name='article:modified_time']/@content\")\n",
    "    if not date_updated:\n",
    "        date_updated=\"Non-avaiable\"\n",
    "    else:\n",
    "        date_updated=date_updated[0]\n",
    "           \n",
    "    # *Combine the result in a dictionary form\n",
    "    result = {\n",
    "        'url'   : url,\n",
    "        'title' : title,\n",
    "        'text': text,\n",
    "        'author': author,\n",
    "        'date'  : date,\n",
    "        'date_updated': date_updated}\n",
    "      \n",
    "    return result\n",
    "        "
   ]
  },
  {
   "cell_type": "markdown",
   "metadata": {},
   "source": [
    "#### *Strategy Discussion:"
   ]
  },
  {
   "cell_type": "markdown",
   "metadata": {},
   "source": [
    "To write a function that collects basic information of an article, we hope to extract the certain categorical information step by step. In total, we would like to discover six features: **Url, Title, Text, Author, Date Published and Date Modified**. While those feature should be processed differently during the cleaing process.\n",
    "\n",
    "***1.Title:** The feature Title is seems to be the most direct information we could get from web-scraping. By looking through the pattern, we found a title of an article is **always contained in h1 tag** and having a class attirbute. More specifically, **this class attribute mostly starts with the \"head\" string**. So we capture this pattern in xpath to get them.\n",
    "\n",
    "***2.Text and Author:** My strategy here is that by checking the articles, we could generally **classified the articles in San Francisco Chronicle into three categories**. Like I mentioned in my code, **the first category is the \"common\" form**. This form of article is clearly presented with almost all information we want existed; **The second category is similar to the \"common form\", which we named it \"approximately-common\" form.** This form may lose some information of an article and the features of those articles are contained in different tags than the \"common form\"; **The third category is named as \"beautiful form\"**, we can consider them as **a special report.** They frequently combined with large photos. The features of them are contained in a different form. So, given those three groups, we develope three xpath patterns to get the text and author information.\n",
    "\n",
    "***3.Date and Date_updated:** Those two features are less hard to capture than author and text information. we could find that the date and date_updated information are always **contained inside time and meta tags.** In this way, we use the pattern in xpath to extract them. \n",
    "\n",
    "***4.\"rid\":** When we extract the features, we deal with strings. During the cleaning process, we obtained **different length of strings**. However, those result are **not showed in a tidy format**. Those we use **regular expression and string processing** to remove the unwanted parts. Particularly, to get rid of **any extra space like \"\\n\\t\"**, we write **a function called rid** that help us to do the thing. It was a great tool both for **tidying the string and tidying the code.**"
   ]
  },
  {
   "cell_type": "markdown",
   "metadata": {},
   "source": [
    "### 1.2 Check Function Result:"
   ]
  },
  {
   "cell_type": "code",
   "execution_count": 9,
   "metadata": {},
   "outputs": [
    {
     "data": {
      "text/plain": [
       "{'url': 'https://www.sfchronicle.com/homeandgarden/article/Gardenlust-looks-at-best-21st-century-13580871.php',\n",
       " 'title': '‘Gardenlust’ looks at best 21st century gardens in the world',\n",
       " 'text': 'The book “Gardenlust: A Botanical Tour of the World’s Best New Gardens” by Christopher Woods (Timber Press, 416 pages, $40) shows you gardens from around the globe, including some surprising places such as Oman, Singapore and the island of Nevis in the West Indies, all of them created in the past 20 years. Fifty gardens or designers are featured. The sites are all engaging; some are breathtaking. Woods, the author and major photographer of the book, began his career as a gardener at Kew Gardens in London. He then worked at a number of public gardens in England and the U.S., including 20 years as director and chief designer of Chanticleer Arboretum in Pennsylvania. (I have been to Chanticleer and have seen the Ruins Garden he created there from the stone and slate ruins of the home of the original owner of the property. It’s a spectacular piece of garden art, which includes the work of Berkeley garden sculptor Marcia Donahue.) Because Woods understands the need for well-planned garden form as well as for horticultural skill and knowledge, he gives us both perspectives in “Gardenlust.” You will learn the names and view the work of forward-looking garden designers the world over. You will also find discussions of certain soils and for important plants in each garden, their common as well as scientific names down to the often all-important cultivar name. I also enjoyed Woods’ explorations of some common themes in gardens of our new century. One of these themes is conservation through cultivation — bringing native plants into gardens to ensure their survival. One of many examples is Pad Te Ke Botanical Garden in Laos, where 250 of that nation’s 485 native orchids are being grown. Another is the Jardín de Salvias in Mar del Plata, Argentina, where a former Buenos Aires professor, Rolando Uría, has initiated a collection of salvia species. (I was particularly taken with a photograph of Salvia foveolata, a tall salvia species with light yellow flowers and dark red sepals.) Landschaftspark, in Duisburg-Nord, Germany, is on the site of a former smelting plant. From “Gardenlust” by Christopher Woods.Photo: Christopher Woods / Timber Press A second common theme is environmental remediation. One example is the Naples Botanical Garden, in Naples, Fla., where a former shopping complex, garbage dump and parking lot has become a tropical paradise. Or consider Landschaftspark, in Duisburg-Nord, Germany, where the ruins of the former Thyssen smelting plant, which openly used slave labor during World War II, is being redesigned into a park. Writes Woods: “Healing the wounds of history does not mean the expurgation of the past.” Here, the machinery that was used to create chemical and social toxins decays in place amid places to stroll, dance and play. A third theme is bringing nature into the hearts of our overcrowded cities. In Tokyo, Ichigaya Forest is being planted in open spaces between tall buildings. Here, native species are being allowed to form their usual untidy but wonderful forest mix, interrupted only by sidewalks taken by workers to and from their city jobs. Other urban plantings are on roofs or walls. In Singapore, exuberant plantings perch on concrete platforms several stories up, like shelf fungi on a tree. A fourth trend is a less formal style of gardening in which plantings appear to represent wild habitats, though only a portion of the plants used are truly native. Although a certain amount of reseeding and spreading is allowed, such plantings are nevertheless carefully curated and edited. This trend is also represented by the High Line in New York. (Not shown in this book. See the book “Gardens of the Highline,” Piet Oudolf and Rick Darke, Timber Press, 2017, which I reviewed in this column in June 2018). Woods shows and comments on several such “naturalistic” plantings. But, although the plantings are casual, they do require maintenance. Woods writes that he found the garden created for 2012 Olympics in London Olympic Park in such poor maintenance that “even benign neglect has been neglected.” Other gardens, such as Junto Farm, a private garden in Hudson Valley, N.Y., and the public Martin Luther King Park in Paris, merit his high praise for both planting and maintenance. Water features connect areas of the Australian Royal Botanical Garden, which highlight the native flora of Australia in settings of abstract hardscape. From “Gardenlust” by Christopher Woods.Photo: Christopher Woods / Timber Press Threaded through the entries is much analysis of this trend. Woods calls it “a relaxed interpretation of nature, seeking not to overpower but to cohabit,” and says such plantings can “serve as a bridge between us and what we think of as untamed nature.” Nevertheless, he says, “there should be no pretense that they aren’t artificial.” That is, it should be clear that these gardens are not restorations of meadows and prairies that are truly gone. The book gains value in my eyes by the fact that over half of the gardens are public, and therefore visitable should you travel to where they are. Some are relatively near. For example, the Chihuly garden in Seattle where colored glass art plays against plants, or the Garden of Flowering Fragrance, a Chinese garden at the Huntington Botanical Garden in San Marino (Los Angeles County). Others are farther away, but who knows, life might take you to Sydney to stroll the modern abstract landscapes of the Australian Garden in the Royal Botanic Gardens, or to Said-Ul-Azaib, Delhi, India, to enjoy the contemplative splendor of the Garden of the Five Senses. Pam Peirce is the author of “Golden Gate Gardening.” Visit her website, www.pampeirce.com Email: food@sfchronicle.com Related Stories Home DesignBy Pam PeircePam Peirce’s secrets to successfully weeding your gardenHome DesignBy Pam PeirceGet your garden going in January through March for Bay... “Gardenlust: A Botanical Tour of the World’s Best New Gardens” By Christopher Woods (Timber Press, 416 pages, $40) Read More The book “Gardenlust: A Botanical Tour of the World’s Best New Gardens” by Christopher Woods (Timber Press, 416 pages, $40) shows you gardens from around the globe, including some surprising places such as Oman, Singapore and the island of Nevis in the West Indies, all of them created in the past 20 years. Fifty gardens or designers are featured. The sites are all engaging; some are breathtaking. Woods, the author and major photographer of the book, began his career as a gardener at Kew Gardens in London. He then worked at a number of public gardens in England and the U.S., including 20 years as director and chief designer of Chanticleer Arboretum in Pennsylvania. (I have been to Chanticleer and have seen the Ruins Garden he created there from the stone and slate ruins of the home of the original owner of the property. It’s a spectacular piece of garden art, which includes the work of Berkeley garden sculptor Marcia Donahue.) Because Woods understands the need for well-planned garden form as well as for horticultural skill and knowledge, he gives us both perspectives in “Gardenlust.” You will learn the names and view the work of forward-looking garden designers the world over. You will also find discussions of certain soils and for important plants in each garden, their common as well as scientific names down to the often all-important cultivar name. I also enjoyed Woods’ explorations of some common themes in gardens of our new century. One of these themes is conservation through cultivation — bringing native plants into gardens to ensure their survival. One of many examples is Pad Te Ke Botanical Garden in Laos, where 250 of that nation’s 485 native orchids are being grown. Another is the Jardín de Salvias in Mar del Plata, Argentina, where a former Buenos Aires professor, Rolando Uría, has initiated a collection of salvia species. (I was particularly taken with a photograph of Salvia foveolata, a tall salvia species with light yellow flowers and dark red sepals.) A second common theme is environmental remediation. One example is the Naples Botanical Garden, in Naples, Fla., where a former shopping complex, garbage dump and parking lot has become a tropical paradise. Or consider Landschaftspark, in Duisburg-Nord, Germany, where the ruins of the former Thyssen smelting plant, which openly used slave labor during World War II, is being redesigned into a park. Writes Woods: “Healing the wounds of history does not mean the expurgation of the past.” Here, the machinery that was used to create chemical and social toxins decays in place amid places to stroll, dance and play. A third theme is bringing nature into the hearts of our overcrowded cities. In Tokyo, Ichigaya Forest is being planted in open spaces between tall buildings. Here, native species are being allowed to form their usual untidy but wonderful forest mix, interrupted only by sidewalks taken by workers to and from their city jobs. Other urban plantings are on roofs or walls. In Singapore, exuberant plantings perch on concrete platforms several stories up, like shelf fungi on a tree. A fourth trend is a less formal style of gardening in which plantings appear to represent wild habitats, though only a portion of the plants used are truly native. Although a certain amount of reseeding and spreading is allowed, such plantings are nevertheless carefully curated and edited. This trend is also represented by the High Line in New York. (Not shown in this book. See the book “Gardens of the Highline,” Piet Oudolf and Rick Darke, Timber Press, 2017, which I reviewed in this column in June 2018). Woods shows and comments on several such “naturalistic” plantings. But, although the plantings are casual, they do require maintenance. Woods writes that he found the garden created for 2012 Olympics in London Olympic Park in such poor maintenance that “even benign neglect has been neglected.” Other gardens, such as Junto Farm, a private garden in Hudson Valley, N.Y., and the public Martin Luther King Park in Paris, merit his high praise for both planting and maintenance. Threaded through the entries is much analysis of this trend. Woods calls it “a relaxed interpretation of nature, seeking not to overpower but to cohabit,” and says such plantings can “serve as a bridge between us and what we think of as untamed nature.” Nevertheless, he says, “there should be no pretense that they aren’t artificial.” That is, it should be clear that these gardens are not restorations of meadows and prairies that are truly gone. The book gains value in my eyes by the fact that over half of the gardens are public, and therefore visitable should you travel to where they are. Some are relatively near. For example, the Chihuly garden in Seattle where colored glass art plays against plants, or the Garden of Flowering Fragrance, a Chinese garden at the Huntington Botanical Garden in San Marino (Los Angeles County). Others are farther away, but who knows, life might take you to Sydney to stroll the modern abstract landscapes of the Australian Garden in the Royal Botanic Gardens, or to Said-Ul-Azaib, Delhi, India, to enjoy the contemplative splendor of the Garden of the Five Senses.',\n",
       " 'author': 'Pam Peirce',\n",
       " 'date': '2019-02-01T18:02:33+00:00',\n",
       " 'date_updated': '2019-02-01T18:12:53+00:00'}"
      ]
     },
     "execution_count": 9,
     "metadata": {},
     "output_type": "execute_result"
    }
   ],
   "source": [
    "res=get_info('https://www.sfchronicle.com/homeandgarden/article/Gardenlust-looks-at-best-21st-century-13580871.php')\n",
    "res"
   ]
  },
  {
   "cell_type": "markdown",
   "metadata": {
    "tags": [
     "exercise"
    ]
   },
   "source": [
    "__Exercise 1.3.__ Use your functions from exercises 1.1 and 1.2 to get data frames of articles for the \"Biz+Tech\" category as well as two other categories of your choosing (except for \"Vault: Archive\", \"Podcasts\", and \"In Depth\").\n",
    "\n",
    "Add a column to each that indicates the category, then combine them into one big data frame. Clean up the data, stripping excess whitespace and converting columns to appropriate dtypes.\n",
    "\n",
    "The `text` column of this data frame will be your corpus for natural language processing in exercise 1.4."
   ]
  },
  {
   "cell_type": "markdown",
   "metadata": {},
   "source": [
    "### 1.3 Function Design & Application:"
   ]
  },
  {
   "cell_type": "markdown",
   "metadata": {},
   "source": [
    "#### *first step: we select three categories of articles: Biz_tech, Food and Sports"
   ]
  },
  {
   "cell_type": "code",
   "execution_count": 10,
   "metadata": {},
   "outputs": [],
   "source": [
    "# Use get_url to get three category articles:\n",
    "biz_tech=get_url(\"https://www.sfchronicle.com/business/\")\n",
    "\n",
    "food=get_url(\"https://www.sfchronicle.com/food/\")\n",
    "\n",
    "sports=get_url(\"https://www.sfchronicle.com/sports/\")"
   ]
  },
  {
   "cell_type": "markdown",
   "metadata": {},
   "source": [
    "#### *second step: we define a function called make_data which returns a clean and whole dataset for each category above."
   ]
  },
  {
   "cell_type": "code",
   "execution_count": 11,
   "metadata": {},
   "outputs": [],
   "source": [
    "# The dataset contains basic summary of articles under one category.\n",
    "# Use get_info to get the informations of an article\n",
    "def make_data(urls, category):\n",
    "    \"\"\"\n",
    "    The function is designed to create a clean dataset for articles under one category.\n",
    "    The function require two parameters:\n",
    "    * urls: URL of articles under one category.\n",
    "    * category: articles' category.\n",
    "    \"\"\"\n",
    "    df=pd.DataFrame(get_info(x) for x in urls)\n",
    "    df['category']=category\n",
    "    \n",
    "    # *clean the date type\n",
    "    date=df['date']\n",
    "    new_date=[]\n",
    "    for dt in date:\n",
    "        if dt != 'Non-avaiable':\n",
    "            dt=pd.to_datetime(dt)\n",
    "            new_date.append(dt)\n",
    "        else:\n",
    "            dt=dt\n",
    "            new_date.append(dt)\n",
    "            \n",
    "    # *clean the date_updated type\n",
    "    date_updated=df['date_updated']\n",
    "    new_dateup=[]\n",
    "    for dtup in date_updated:\n",
    "        if dtup != 'Non-avaiable':\n",
    "            dtup=pd.to_datetime(dtup)\n",
    "        else:\n",
    "            dtup=dtup\n",
    "        new_dateup.append(dtup)\n",
    "\n",
    "    df['date']=new_date\n",
    "    df['date_updated']=new_dateup\n",
    "    return df"
   ]
  },
  {
   "cell_type": "markdown",
   "metadata": {},
   "source": [
    "### 1.3 Check Function Result:"
   ]
  },
  {
   "cell_type": "markdown",
   "metadata": {},
   "source": [
    "#### ---1. Articles of Biz_Tech---"
   ]
  },
  {
   "cell_type": "code",
   "execution_count": 12,
   "metadata": {},
   "outputs": [
    {
     "data": {
      "text/html": [
       "<div>\n",
       "<style scoped>\n",
       "    .dataframe tbody tr th:only-of-type {\n",
       "        vertical-align: middle;\n",
       "    }\n",
       "\n",
       "    .dataframe tbody tr th {\n",
       "        vertical-align: top;\n",
       "    }\n",
       "\n",
       "    .dataframe thead th {\n",
       "        text-align: right;\n",
       "    }\n",
       "</style>\n",
       "<table border=\"1\" class=\"dataframe\">\n",
       "  <thead>\n",
       "    <tr style=\"text-align: right;\">\n",
       "      <th></th>\n",
       "      <th>author</th>\n",
       "      <th>date</th>\n",
       "      <th>date_updated</th>\n",
       "      <th>text</th>\n",
       "      <th>title</th>\n",
       "      <th>url</th>\n",
       "      <th>category</th>\n",
       "    </tr>\n",
       "  </thead>\n",
       "  <tbody>\n",
       "    <tr>\n",
       "      <th>0</th>\n",
       "      <td>Jordan Guinn</td>\n",
       "      <td>2019-02-16 17:17:19</td>\n",
       "      <td>2019-02-16 17:18:29</td>\n",
       "      <td>Despite his penchant for building multimillion...</td>\n",
       "      <td>Designer Profile: Lowell Strauss of Amalfi West</td>\n",
       "      <td>https://www.sfchronicle.com/realestate/article...</td>\n",
       "      <td>biz_tech</td>\n",
       "    </tr>\n",
       "    <tr>\n",
       "      <th>1</th>\n",
       "      <td>Dominic Fracassa</td>\n",
       "      <td>2019-02-15 00:55:14</td>\n",
       "      <td>2019-02-15 00:56:10</td>\n",
       "      <td>More than 250,000 San Francisco homes and busi...</td>\n",
       "      <td>CleanPowerSF tripling households served with m...</td>\n",
       "      <td>https://www.sfchronicle.com/bayarea/article/Cl...</td>\n",
       "      <td>biz_tech</td>\n",
       "    </tr>\n",
       "    <tr>\n",
       "      <th>2</th>\n",
       "      <td>Sentinel Media Services</td>\n",
       "      <td>2019-02-20 18:16:16</td>\n",
       "      <td>2019-02-20 18:18:03</td>\n",
       "      <td>A: Real estate today moves at the speed of inf...</td>\n",
       "      <td>What’s a piece of technology you can’t imagine...</td>\n",
       "      <td>https://www.sfchronicle.com/realestate/article...</td>\n",
       "      <td>biz_tech</td>\n",
       "    </tr>\n",
       "    <tr>\n",
       "      <th>3</th>\n",
       "      <td>Michael Liedtke And Anick Jesdanun</td>\n",
       "      <td>2019-02-20 23:36:35</td>\n",
       "      <td>Non-avaiable</td>\n",
       "      <td>Samsung unveiled a highly anticipated smartpho...</td>\n",
       "      <td>Samsung folding phone can be yours for $2,000</td>\n",
       "      <td>https://www.sfchronicle.com/business/article/S...</td>\n",
       "      <td>biz_tech</td>\n",
       "    </tr>\n",
       "    <tr>\n",
       "      <th>4</th>\n",
       "      <td>Shwanika Narayan</td>\n",
       "      <td>2019-02-22 12:00:00</td>\n",
       "      <td>2019-02-22 12:00:34</td>\n",
       "      <td>One of San Francisco’s last traditional men’s ...</td>\n",
       "      <td>The Hound Gentlemen’s Clothiers finds buyer on...</td>\n",
       "      <td>https://www.sfchronicle.com/business/article/T...</td>\n",
       "      <td>biz_tech</td>\n",
       "    </tr>\n",
       "    <tr>\n",
       "      <th>5</th>\n",
       "      <td>Tal Kopan</td>\n",
       "      <td>2019-02-22 02:04:26</td>\n",
       "      <td>2019-02-22 02:05:15</td>\n",
       "      <td>WASHINGTON — After nearly two years of delays,...</td>\n",
       "      <td>Trump administration begins effort to strip wo...</td>\n",
       "      <td>https://www.sfchronicle.com/business/article/T...</td>\n",
       "      <td>biz_tech</td>\n",
       "    </tr>\n",
       "    <tr>\n",
       "      <th>6</th>\n",
       "      <td>Jake Seiner</td>\n",
       "      <td>2019-02-21 00:33:26</td>\n",
       "      <td>2019-02-21 00:34:54</td>\n",
       "      <td>For the first time since its meteoric rise, “F...</td>\n",
       "      <td>‘Apex Legends’ smashing ‘Fortnite’ records</td>\n",
       "      <td>https://www.sfchronicle.com/business/article/A...</td>\n",
       "      <td>biz_tech</td>\n",
       "    </tr>\n",
       "    <tr>\n",
       "      <th>7</th>\n",
       "      <td>Chronicle Staff And News Services</td>\n",
       "      <td>2019-02-21 23:40:52</td>\n",
       "      <td>2019-02-21 23:41:48</td>\n",
       "      <td>Home sales sluggish U.S. home sales fell 1.2 p...</td>\n",
       "      <td>Home sales sluggish; Intuit tops estimates; Do...</td>\n",
       "      <td>https://www.sfchronicle.com/business/article/H...</td>\n",
       "      <td>biz_tech</td>\n",
       "    </tr>\n",
       "    <tr>\n",
       "      <th>8</th>\n",
       "      <td>J.D. Morris</td>\n",
       "      <td>2019-02-14 04:59:31</td>\n",
       "      <td>2019-02-14 23:57:55</td>\n",
       "      <td>While millions more Pacific Gas and Electric C...</td>\n",
       "      <td>PG&amp;E says it’s still trying to limit power shu...</td>\n",
       "      <td>https://www.sfchronicle.com/business/article/P...</td>\n",
       "      <td>biz_tech</td>\n",
       "    </tr>\n",
       "    <tr>\n",
       "      <th>9</th>\n",
       "      <td>Joe Mcdonald</td>\n",
       "      <td>2019-02-21 04:22:10</td>\n",
       "      <td>2019-02-21 04:24:15</td>\n",
       "      <td>BEIJING (AP) — Asian stock markets were little...</td>\n",
       "      <td>Asian stocks change little ahead of more US-Ch...</td>\n",
       "      <td>https://www.sfchronicle.com/news/us/article/US...</td>\n",
       "      <td>biz_tech</td>\n",
       "    </tr>\n",
       "  </tbody>\n",
       "</table>\n",
       "</div>"
      ],
      "text/plain": [
       "                                author                date  \\\n",
       "0                         Jordan Guinn 2019-02-16 17:17:19   \n",
       "1                     Dominic Fracassa 2019-02-15 00:55:14   \n",
       "2              Sentinel Media Services 2019-02-20 18:16:16   \n",
       "3   Michael Liedtke And Anick Jesdanun 2019-02-20 23:36:35   \n",
       "4                     Shwanika Narayan 2019-02-22 12:00:00   \n",
       "5                            Tal Kopan 2019-02-22 02:04:26   \n",
       "6                          Jake Seiner 2019-02-21 00:33:26   \n",
       "7    Chronicle Staff And News Services 2019-02-21 23:40:52   \n",
       "8                          J.D. Morris 2019-02-14 04:59:31   \n",
       "9                         Joe Mcdonald 2019-02-21 04:22:10   \n",
       "\n",
       "          date_updated                                               text  \\\n",
       "0  2019-02-16 17:18:29  Despite his penchant for building multimillion...   \n",
       "1  2019-02-15 00:56:10  More than 250,000 San Francisco homes and busi...   \n",
       "2  2019-02-20 18:18:03  A: Real estate today moves at the speed of inf...   \n",
       "3         Non-avaiable  Samsung unveiled a highly anticipated smartpho...   \n",
       "4  2019-02-22 12:00:34  One of San Francisco’s last traditional men’s ...   \n",
       "5  2019-02-22 02:05:15  WASHINGTON — After nearly two years of delays,...   \n",
       "6  2019-02-21 00:34:54  For the first time since its meteoric rise, “F...   \n",
       "7  2019-02-21 23:41:48  Home sales sluggish U.S. home sales fell 1.2 p...   \n",
       "8  2019-02-14 23:57:55  While millions more Pacific Gas and Electric C...   \n",
       "9  2019-02-21 04:24:15  BEIJING (AP) — Asian stock markets were little...   \n",
       "\n",
       "                                               title  \\\n",
       "0    Designer Profile: Lowell Strauss of Amalfi West   \n",
       "1  CleanPowerSF tripling households served with m...   \n",
       "2  What’s a piece of technology you can’t imagine...   \n",
       "3      Samsung folding phone can be yours for $2,000   \n",
       "4  The Hound Gentlemen’s Clothiers finds buyer on...   \n",
       "5  Trump administration begins effort to strip wo...   \n",
       "6         ‘Apex Legends’ smashing ‘Fortnite’ records   \n",
       "7  Home sales sluggish; Intuit tops estimates; Do...   \n",
       "8  PG&E says it’s still trying to limit power shu...   \n",
       "9  Asian stocks change little ahead of more US-Ch...   \n",
       "\n",
       "                                                 url  category  \n",
       "0  https://www.sfchronicle.com/realestate/article...  biz_tech  \n",
       "1  https://www.sfchronicle.com/bayarea/article/Cl...  biz_tech  \n",
       "2  https://www.sfchronicle.com/realestate/article...  biz_tech  \n",
       "3  https://www.sfchronicle.com/business/article/S...  biz_tech  \n",
       "4  https://www.sfchronicle.com/business/article/T...  biz_tech  \n",
       "5  https://www.sfchronicle.com/business/article/T...  biz_tech  \n",
       "6  https://www.sfchronicle.com/business/article/A...  biz_tech  \n",
       "7  https://www.sfchronicle.com/business/article/H...  biz_tech  \n",
       "8  https://www.sfchronicle.com/business/article/P...  biz_tech  \n",
       "9  https://www.sfchronicle.com/news/us/article/US...  biz_tech  "
      ]
     },
     "execution_count": 12,
     "metadata": {},
     "output_type": "execute_result"
    }
   ],
   "source": [
    "df_biz=make_data(biz_tech,\"biz_tech\")\n",
    "df_biz[:10] # present the first ten lines"
   ]
  },
  {
   "cell_type": "markdown",
   "metadata": {},
   "source": [
    "#### ---2. Articles of Food---"
   ]
  },
  {
   "cell_type": "code",
   "execution_count": 13,
   "metadata": {},
   "outputs": [
    {
     "data": {
      "text/html": [
       "<div>\n",
       "<style scoped>\n",
       "    .dataframe tbody tr th:only-of-type {\n",
       "        vertical-align: middle;\n",
       "    }\n",
       "\n",
       "    .dataframe tbody tr th {\n",
       "        vertical-align: top;\n",
       "    }\n",
       "\n",
       "    .dataframe thead th {\n",
       "        text-align: right;\n",
       "    }\n",
       "</style>\n",
       "<table border=\"1\" class=\"dataframe\">\n",
       "  <thead>\n",
       "    <tr style=\"text-align: right;\">\n",
       "      <th></th>\n",
       "      <th>author</th>\n",
       "      <th>date</th>\n",
       "      <th>date_updated</th>\n",
       "      <th>text</th>\n",
       "      <th>title</th>\n",
       "      <th>url</th>\n",
       "      <th>category</th>\n",
       "    </tr>\n",
       "  </thead>\n",
       "  <tbody>\n",
       "    <tr>\n",
       "      <th>0</th>\n",
       "      <td>Tara Duggan</td>\n",
       "      <td>2019-02-20 21:14:05</td>\n",
       "      <td>2019-02-20 21:15:25</td>\n",
       "      <td>As you approach Elk, a Mendocino County town w...</td>\n",
       "      <td>Why a Saison cook left San Francisco to cook o...</td>\n",
       "      <td>https://www.sfchronicle.com/food/article/Why-a...</td>\n",
       "      <td>food</td>\n",
       "    </tr>\n",
       "    <tr>\n",
       "      <th>1</th>\n",
       "      <td>The Chronicle Food Team</td>\n",
       "      <td>2015-08-27 12:00:00</td>\n",
       "      <td>2015-08-27 12:00:13</td>\n",
       "      <td>It has been only five years since Off the Grid...</td>\n",
       "      <td>The Bay Area’s 20 best food trucks</td>\n",
       "      <td>https://www.sfchronicle.com/food/article/The-B...</td>\n",
       "      <td>food</td>\n",
       "    </tr>\n",
       "    <tr>\n",
       "      <th>2</th>\n",
       "      <td>Esther Mobley</td>\n",
       "      <td>2017-11-03 01:57:27</td>\n",
       "      <td>2017-11-03 01:58:30</td>\n",
       "      <td>The Bucklin family’s relationship with Constel...</td>\n",
       "      <td>Northern California grape growers begin to fac...</td>\n",
       "      <td>https://www.sfchronicle.com/wine/article/North...</td>\n",
       "      <td>food</td>\n",
       "    </tr>\n",
       "    <tr>\n",
       "      <th>3</th>\n",
       "      <td>Sarah Fritsche</td>\n",
       "      <td>2019-02-08 20:00:00</td>\n",
       "      <td>2019-02-08 21:15:47</td>\n",
       "      <td>With the possible exception of State Bird Prov...</td>\n",
       "      <td>How to make Zuni Cafe’s Roast Chicken With Bre...</td>\n",
       "      <td>https://www.sfchronicle.com/recipes/article/Ho...</td>\n",
       "      <td>food</td>\n",
       "    </tr>\n",
       "    <tr>\n",
       "      <th>4</th>\n",
       "      <td>Jessica Battilana</td>\n",
       "      <td>2019-02-15 17:43:59</td>\n",
       "      <td>2019-02-15 18:40:38</td>\n",
       "      <td>The first couple months of the year are a time...</td>\n",
       "      <td>Repertoire: Stir-Fried Shrimp With Chinese Bro...</td>\n",
       "      <td>https://www.sfchronicle.com/news/article/Reper...</td>\n",
       "      <td>food</td>\n",
       "    </tr>\n",
       "    <tr>\n",
       "      <th>5</th>\n",
       "      <td>Esther Mobley</td>\n",
       "      <td>2017-12-20 19:41:23</td>\n",
       "      <td>2017-12-20 20:03:42</td>\n",
       "      <td>Two short years ago I asked why there weren’t ...</td>\n",
       "      <td>Suddenly, West Coast is sparkling: Here’s the ...</td>\n",
       "      <td>https://www.sfchronicle.com/wine/article/Sudde...</td>\n",
       "      <td>food</td>\n",
       "    </tr>\n",
       "    <tr>\n",
       "      <th>6</th>\n",
       "      <td>Sarah Fritsche</td>\n",
       "      <td>2019-02-22 21:46:35</td>\n",
       "      <td>2019-02-22 21:48:04</td>\n",
       "      <td>For mycophiles, when it rains, it pours mushro...</td>\n",
       "      <td>Recipe: How to make Lord Stanley’s Grilled Kin...</td>\n",
       "      <td>https://www.sfchronicle.com/recipes/article/Re...</td>\n",
       "      <td>food</td>\n",
       "    </tr>\n",
       "    <tr>\n",
       "      <th>7</th>\n",
       "      <td>Jessica Battilana</td>\n",
       "      <td>2018-10-26 16:57:46</td>\n",
       "      <td>2018-10-26 17:15:08</td>\n",
       "      <td>I wish we had a home video of dinnertime at my...</td>\n",
       "      <td>On motherhood, grief and the value of feeding ...</td>\n",
       "      <td>https://www.sfchronicle.com/recipes/article/On...</td>\n",
       "      <td>food</td>\n",
       "    </tr>\n",
       "    <tr>\n",
       "      <th>8</th>\n",
       "      <td>Justin Phillips</td>\n",
       "      <td>2019-02-14 23:05:53</td>\n",
       "      <td>2019-02-14 23:06:41</td>\n",
       "      <td>Oakland’s Jack London Square is in the throes ...</td>\n",
       "      <td>What will be the future of Jack London Square ...</td>\n",
       "      <td>https://www.sfchronicle.com/food/article/Jack-...</td>\n",
       "      <td>food</td>\n",
       "    </tr>\n",
       "    <tr>\n",
       "      <th>9</th>\n",
       "      <td>Sarah Fritsche</td>\n",
       "      <td>2018-12-14 18:03:37</td>\n",
       "      <td>2018-12-14 18:04:28</td>\n",
       "      <td>Given Evan and Sarah Rich’s fine-dining pedigr...</td>\n",
       "      <td>Recipe: How to make RT Rotisserie’s Brussels s...</td>\n",
       "      <td>https://www.sfchronicle.com/recipes/article/Re...</td>\n",
       "      <td>food</td>\n",
       "    </tr>\n",
       "  </tbody>\n",
       "</table>\n",
       "</div>"
      ],
      "text/plain": [
       "                     author                date         date_updated  \\\n",
       "0               Tara Duggan 2019-02-20 21:14:05  2019-02-20 21:15:25   \n",
       "1   The Chronicle Food Team 2015-08-27 12:00:00  2015-08-27 12:00:13   \n",
       "2             Esther Mobley 2017-11-03 01:57:27  2017-11-03 01:58:30   \n",
       "3            Sarah Fritsche 2019-02-08 20:00:00  2019-02-08 21:15:47   \n",
       "4         Jessica Battilana 2019-02-15 17:43:59  2019-02-15 18:40:38   \n",
       "5             Esther Mobley 2017-12-20 19:41:23  2017-12-20 20:03:42   \n",
       "6            Sarah Fritsche 2019-02-22 21:46:35  2019-02-22 21:48:04   \n",
       "7         Jessica Battilana 2018-10-26 16:57:46  2018-10-26 17:15:08   \n",
       "8           Justin Phillips 2019-02-14 23:05:53  2019-02-14 23:06:41   \n",
       "9            Sarah Fritsche 2018-12-14 18:03:37  2018-12-14 18:04:28   \n",
       "\n",
       "                                                text  \\\n",
       "0  As you approach Elk, a Mendocino County town w...   \n",
       "1  It has been only five years since Off the Grid...   \n",
       "2  The Bucklin family’s relationship with Constel...   \n",
       "3  With the possible exception of State Bird Prov...   \n",
       "4  The first couple months of the year are a time...   \n",
       "5  Two short years ago I asked why there weren’t ...   \n",
       "6  For mycophiles, when it rains, it pours mushro...   \n",
       "7  I wish we had a home video of dinnertime at my...   \n",
       "8  Oakland’s Jack London Square is in the throes ...   \n",
       "9  Given Evan and Sarah Rich’s fine-dining pedigr...   \n",
       "\n",
       "                                               title  \\\n",
       "0  Why a Saison cook left San Francisco to cook o...   \n",
       "1                 The Bay Area’s 20 best food trucks   \n",
       "2  Northern California grape growers begin to fac...   \n",
       "3  How to make Zuni Cafe’s Roast Chicken With Bre...   \n",
       "4  Repertoire: Stir-Fried Shrimp With Chinese Bro...   \n",
       "5  Suddenly, West Coast is sparkling: Here’s the ...   \n",
       "6  Recipe: How to make Lord Stanley’s Grilled Kin...   \n",
       "7  On motherhood, grief and the value of feeding ...   \n",
       "8  What will be the future of Jack London Square ...   \n",
       "9  Recipe: How to make RT Rotisserie’s Brussels s...   \n",
       "\n",
       "                                                 url category  \n",
       "0  https://www.sfchronicle.com/food/article/Why-a...     food  \n",
       "1  https://www.sfchronicle.com/food/article/The-B...     food  \n",
       "2  https://www.sfchronicle.com/wine/article/North...     food  \n",
       "3  https://www.sfchronicle.com/recipes/article/Ho...     food  \n",
       "4  https://www.sfchronicle.com/news/article/Reper...     food  \n",
       "5  https://www.sfchronicle.com/wine/article/Sudde...     food  \n",
       "6  https://www.sfchronicle.com/recipes/article/Re...     food  \n",
       "7  https://www.sfchronicle.com/recipes/article/On...     food  \n",
       "8  https://www.sfchronicle.com/food/article/Jack-...     food  \n",
       "9  https://www.sfchronicle.com/recipes/article/Re...     food  "
      ]
     },
     "execution_count": 13,
     "metadata": {},
     "output_type": "execute_result"
    }
   ],
   "source": [
    "df_fd=make_data(food, \"food\")\n",
    "df_fd[:10] # present the first ten lines"
   ]
  },
  {
   "cell_type": "markdown",
   "metadata": {},
   "source": [
    "#### ---3. Articles of Sports---"
   ]
  },
  {
   "cell_type": "code",
   "execution_count": 14,
   "metadata": {},
   "outputs": [
    {
     "data": {
      "text/html": [
       "<div>\n",
       "<style scoped>\n",
       "    .dataframe tbody tr th:only-of-type {\n",
       "        vertical-align: middle;\n",
       "    }\n",
       "\n",
       "    .dataframe tbody tr th {\n",
       "        vertical-align: top;\n",
       "    }\n",
       "\n",
       "    .dataframe thead th {\n",
       "        text-align: right;\n",
       "    }\n",
       "</style>\n",
       "<table border=\"1\" class=\"dataframe\">\n",
       "  <thead>\n",
       "    <tr style=\"text-align: right;\">\n",
       "      <th></th>\n",
       "      <th>author</th>\n",
       "      <th>date</th>\n",
       "      <th>date_updated</th>\n",
       "      <th>text</th>\n",
       "      <th>title</th>\n",
       "      <th>url</th>\n",
       "      <th>category</th>\n",
       "    </tr>\n",
       "  </thead>\n",
       "  <tbody>\n",
       "    <tr>\n",
       "      <th>0</th>\n",
       "      <td>Scott Ostler</td>\n",
       "      <td>2019-02-21 03:14:20</td>\n",
       "      <td>2019-02-21 04:43:53</td>\n",
       "      <td>When Colin Kaepernick makes his comeback in th...</td>\n",
       "      <td>Will any NFL team sign Colin Kaepernick?</td>\n",
       "      <td>https://www.sfchronicle.com/sports/ostler/arti...</td>\n",
       "      <td>sports</td>\n",
       "    </tr>\n",
       "    <tr>\n",
       "      <th>1</th>\n",
       "      <td>Jose M. Romero</td>\n",
       "      <td>2019-02-21 06:53:56</td>\n",
       "      <td>2019-02-21 06:55:22</td>\n",
       "      <td>TEMPE, Ariz. — Rob Edwards didn’t need to take...</td>\n",
       "      <td>Arizona State’s Rob Edwards proves too much fo...</td>\n",
       "      <td>https://www.sfchronicle.com/collegesports/arti...</td>\n",
       "      <td>sports</td>\n",
       "    </tr>\n",
       "    <tr>\n",
       "      <th>2</th>\n",
       "      <td>John Marshall</td>\n",
       "      <td>2019-02-22 06:23:46</td>\n",
       "      <td>2019-02-22 06:24:53</td>\n",
       "      <td>TUCSON — Ryan Luther scored 19 points and Ariz...</td>\n",
       "      <td>Ugly offense — skid reaches 15</td>\n",
       "      <td>https://www.sfchronicle.com/collegesports/arti...</td>\n",
       "      <td>sports</td>\n",
       "    </tr>\n",
       "    <tr>\n",
       "      <th>3</th>\n",
       "      <td>Susan Slusser</td>\n",
       "      <td>2019-02-22 05:23:38</td>\n",
       "      <td>2019-02-22 05:24:45</td>\n",
       "      <td>MESA, Ariz. — Since Day 1 of spring training, ...</td>\n",
       "      <td>A’s rotation hopeful Daniel Mengden is lighter...</td>\n",
       "      <td>https://www.sfchronicle.com/athletics/article/...</td>\n",
       "      <td>sports</td>\n",
       "    </tr>\n",
       "    <tr>\n",
       "      <th>4</th>\n",
       "      <td>Connor Letourneau</td>\n",
       "      <td>2019-02-22 01:30:30</td>\n",
       "      <td>2019-02-22 01:35:54</td>\n",
       "      <td>Warriors center DeMarcus Cousins didn’t hold b...</td>\n",
       "      <td>DeMarcus Cousins calls NCAA ‘bullsh—,’ encoura...</td>\n",
       "      <td>https://www.sfchronicle.com/warriors/article/D...</td>\n",
       "      <td>sports</td>\n",
       "    </tr>\n",
       "    <tr>\n",
       "      <th>5</th>\n",
       "      <td>Tom Stienstra</td>\n",
       "      <td>2019-02-18 08:00:00</td>\n",
       "      <td>2019-02-21 20:50:08</td>\n",
       "      <td>For more stories like this, check out The Chro...</td>\n",
       "      <td>The good and bad from recent storms</td>\n",
       "      <td>https://www.sfchronicle.com/travel/article/The...</td>\n",
       "      <td>sports</td>\n",
       "    </tr>\n",
       "    <tr>\n",
       "      <th>6</th>\n",
       "      <td>Mitch Stephens</td>\n",
       "      <td>2019-02-16 06:58:37</td>\n",
       "      <td>Non-avaiable</td>\n",
       "      <td>Rather than put a team with a sparkling record...</td>\n",
       "      <td>Sacred Heart Cathedral stuns top-seeded Mitty</td>\n",
       "      <td>https://www.sfchronicle.com/sports/article/Sac...</td>\n",
       "      <td>sports</td>\n",
       "    </tr>\n",
       "    <tr>\n",
       "      <th>7</th>\n",
       "      <td>Mitch Stephens</td>\n",
       "      <td>2019-02-19 04:29:28</td>\n",
       "      <td>2019-02-19 04:30:47</td>\n",
       "      <td>The game plan Friday against top-seeded Mitty ...</td>\n",
       "      <td>Don’t be deceived by 11-14 record of Sacred He...</td>\n",
       "      <td>https://www.sfchronicle.com/sports/article/Don...</td>\n",
       "      <td>sports</td>\n",
       "    </tr>\n",
       "    <tr>\n",
       "      <th>8</th>\n",
       "      <td>Connor Letourneau</td>\n",
       "      <td>2019-02-22 07:49:58</td>\n",
       "      <td>2019-02-22 07:51:26</td>\n",
       "      <td>As far as potential rivalries go, Kings-Warrio...</td>\n",
       "      <td>In win over Kings, Warriors show how fun poten...</td>\n",
       "      <td>https://www.sfchronicle.com/sports/article/War...</td>\n",
       "      <td>sports</td>\n",
       "    </tr>\n",
       "    <tr>\n",
       "      <th>9</th>\n",
       "      <td>Chronicle News Services</td>\n",
       "      <td>2019-02-21 06:55:32</td>\n",
       "      <td>Non-avaiable</td>\n",
       "      <td>Calgary’s Austin Czarnik and Johnny Gaudreau s...</td>\n",
       "      <td>Flames prevail to extend lead over Sharks</td>\n",
       "      <td>https://www.sfchronicle.com/sharks/article/Fla...</td>\n",
       "      <td>sports</td>\n",
       "    </tr>\n",
       "  </tbody>\n",
       "</table>\n",
       "</div>"
      ],
      "text/plain": [
       "                    author                date         date_updated  \\\n",
       "0             Scott Ostler 2019-02-21 03:14:20  2019-02-21 04:43:53   \n",
       "1           Jose M. Romero 2019-02-21 06:53:56  2019-02-21 06:55:22   \n",
       "2            John Marshall 2019-02-22 06:23:46  2019-02-22 06:24:53   \n",
       "3            Susan Slusser 2019-02-22 05:23:38  2019-02-22 05:24:45   \n",
       "4        Connor Letourneau 2019-02-22 01:30:30  2019-02-22 01:35:54   \n",
       "5            Tom Stienstra 2019-02-18 08:00:00  2019-02-21 20:50:08   \n",
       "6           Mitch Stephens 2019-02-16 06:58:37         Non-avaiable   \n",
       "7           Mitch Stephens 2019-02-19 04:29:28  2019-02-19 04:30:47   \n",
       "8        Connor Letourneau 2019-02-22 07:49:58  2019-02-22 07:51:26   \n",
       "9  Chronicle News Services 2019-02-21 06:55:32         Non-avaiable   \n",
       "\n",
       "                                                text  \\\n",
       "0  When Colin Kaepernick makes his comeback in th...   \n",
       "1  TEMPE, Ariz. — Rob Edwards didn’t need to take...   \n",
       "2  TUCSON — Ryan Luther scored 19 points and Ariz...   \n",
       "3  MESA, Ariz. — Since Day 1 of spring training, ...   \n",
       "4  Warriors center DeMarcus Cousins didn’t hold b...   \n",
       "5  For more stories like this, check out The Chro...   \n",
       "6  Rather than put a team with a sparkling record...   \n",
       "7  The game plan Friday against top-seeded Mitty ...   \n",
       "8  As far as potential rivalries go, Kings-Warrio...   \n",
       "9  Calgary’s Austin Czarnik and Johnny Gaudreau s...   \n",
       "\n",
       "                                               title  \\\n",
       "0           Will any NFL team sign Colin Kaepernick?   \n",
       "1  Arizona State’s Rob Edwards proves too much fo...   \n",
       "2                     Ugly offense — skid reaches 15   \n",
       "3  A’s rotation hopeful Daniel Mengden is lighter...   \n",
       "4  DeMarcus Cousins calls NCAA ‘bullsh—,’ encoura...   \n",
       "5                The good and bad from recent storms   \n",
       "6      Sacred Heart Cathedral stuns top-seeded Mitty   \n",
       "7  Don’t be deceived by 11-14 record of Sacred He...   \n",
       "8  In win over Kings, Warriors show how fun poten...   \n",
       "9          Flames prevail to extend lead over Sharks   \n",
       "\n",
       "                                                 url category  \n",
       "0  https://www.sfchronicle.com/sports/ostler/arti...   sports  \n",
       "1  https://www.sfchronicle.com/collegesports/arti...   sports  \n",
       "2  https://www.sfchronicle.com/collegesports/arti...   sports  \n",
       "3  https://www.sfchronicle.com/athletics/article/...   sports  \n",
       "4  https://www.sfchronicle.com/warriors/article/D...   sports  \n",
       "5  https://www.sfchronicle.com/travel/article/The...   sports  \n",
       "6  https://www.sfchronicle.com/sports/article/Sac...   sports  \n",
       "7  https://www.sfchronicle.com/sports/article/Don...   sports  \n",
       "8  https://www.sfchronicle.com/sports/article/War...   sports  \n",
       "9  https://www.sfchronicle.com/sharks/article/Fla...   sports  "
      ]
     },
     "execution_count": 14,
     "metadata": {},
     "output_type": "execute_result"
    }
   ],
   "source": [
    "df_spt=make_data(sports,\"sports\")\n",
    "df_spt[:10] # present the first ten lines"
   ]
  },
  {
   "cell_type": "markdown",
   "metadata": {
    "tags": [
     "exercise"
    ]
   },
   "source": [
    "__Exercise 1.4.__  What topics has the Chronicle covered recently? How does the category affect the topics? Support your analysis with visualizations.\n",
    "\n",
    "Hints:\n",
    "\n",
    "*   The [nltk book](http://www.nltk.org/book/) may be helpful here.\n",
    "\n",
    "*   This question will be easier to do after we've finished NLP in class."
   ]
  },
  {
   "cell_type": "markdown",
   "metadata": {},
   "source": [
    "### 1.4.1 Recent Topics Overall in Chronicle:"
   ]
  },
  {
   "cell_type": "code",
   "execution_count": 15,
   "metadata": {},
   "outputs": [],
   "source": [
    "# Merge Data\n",
    "frames=[df_biz, df_fd, df_spt]\n",
    "total=pd.concat(frames)\n",
    "tt_text=\"\".join(total.text)\n",
    "\n",
    "# Download the commmon stopwords which help sorting the topics.\n",
    "stopwords=corpus.stopwords.words('english')\n",
    "\n",
    "# Remove other less meaningful words\n",
    "addwords=[\"said\",\"e\",\"like\",\"also\",\"pg\",\"would\",\"could\",\n",
    "          \"san\",\"francisco\",\"last\",\"one\",\"two\", \"1\",\"first\",\n",
    "          \"made\", \"back\", \"says\", \"get\", \"year\",\"make\",\"many\",\n",
    "          \"still\"]\n",
    "tt_voc=stopwords+addwords\n",
    "tt_text=tt_text.lower()\n",
    "words=nltk.word_tokenize(tt_text)\n",
    "words=[w.lower() for w in words if w not in tt_voc and w.isalnum()]\n",
    "wf_tt=nltk.FreqDist(words)"
   ]
  },
  {
   "cell_type": "markdown",
   "metadata": {},
   "source": [
    "### 1.4.1 Data Visualization"
   ]
  },
  {
   "cell_type": "code",
   "execution_count": 20,
   "metadata": {},
   "outputs": [
    {
     "data": {
      "image/png": "[encoded data removed]",
      "text/plain": [
       "<Figure size 432x288 with 1 Axes>"
      ]
     },
     "metadata": {
      "needs_background": "light"
     },
     "output_type": "display_data"
    }
   ],
   "source": [
    "wf_tt.plot(20)"
   ]
  },
  {
   "cell_type": "markdown",
   "metadata": {},
   "source": [
    "#### *Topics Discussion:"
   ]
  },
  {
   "cell_type": "markdown",
   "metadata": {},
   "source": [
    "**To look through the topics recently covered in Chronicle, we combine the three categorical articles together and sort out the keywords inside the text. By checking the above frequency words, we found that the most popular five words are \"restaurant\", \"food\", \"wine\", \"game\" and \"season\". Thus, combining the other words in freqeuncy plot, we might predict the overall heated topics recently in Chronicle would be about \"best resturant\", \"best food\", \"game seasons\", \"wines and bars\" and \"game point\".**\n"
   ]
  },
  {
   "cell_type": "markdown",
   "metadata": {},
   "source": [
    "### 1.4.2 Recent Topics under Single Category in Chronicle:"
   ]
  },
  {
   "cell_type": "code",
   "execution_count": 75,
   "metadata": {},
   "outputs": [],
   "source": [
    "# Download the commmon stopwords which help sorting the topics.\n",
    "stopwords=corpus.stopwords.words('english')\n",
    "\n",
    "# --Bussiness and Technology--\n",
    "addwords=[\"said\",\"e\",\"like\",\"also\",\"pg\",\"would\",\"could\",\n",
    "          \"san\",\"francisco\",\"last\",\"one\",\"two\"]\n",
    "biz_voc=stopwords+addwords\n",
    "biz_text=\"\".join(df_biz.text)\n",
    "biz_text=biz_text.lower()\n",
    "words=nltk.word_tokenize(biz_text)\n",
    "words=[w.lower() for w in words if w not in biz_voc and w.isalnum()]\n",
    "wf_biz=nltk.FreqDist(words)\n",
    "\n",
    "\n",
    "# --Food--\n",
    "addwords=[\"one\",\"two\",\"1\", \"san\",\"francisco\",\"also\", \"two\",\"says\",\n",
    "          \"make\",\"get\",\"years\",\"still\",\"first\",\"made\",\"said\",\n",
    "          \"could\",\"2\",\"would\",\"many\",\"much\",\"back\",\"415\"]\n",
    "fd_voc=stopwords+addwords\n",
    "fd_text=\"\".join(df_fd.text)\n",
    "fd_text=fd_text.lower()\n",
    "words=nltk.word_tokenize(fd_text)\n",
    "words=[w.lower() for w in words if w not in fd_voc and w.isalnum()]\n",
    "wf_fd=nltk.FreqDist(words)\n",
    "\n",
    "\n",
    "# --Sports--\n",
    "addwords=[\"said\", \"first\", \"one\", \"two\", \"san\", \"francisco\", \"year\", \n",
    "          \"get\",  \"last\", \"would\", \"could\",\"years\",\"three\", \"like\", \n",
    "          \"think\", \"going\", \"play\", \"back\", \"also\"]\n",
    "spt_voc=stopwords+addwords\n",
    "spt_text=\"\".join(df_spt.text)\n",
    "spt_text=spt_text.lower()\n",
    "words=nltk.word_tokenize(spt_text)\n",
    "words=[w.lower() for w in words if w not in spt_voc and w.isalnum()]\n",
    "wf_spt=nltk.FreqDist(words)"
   ]
  },
  {
   "cell_type": "markdown",
   "metadata": {},
   "source": [
    "### 1.4.2 Data Visualization"
   ]
  },
  {
   "cell_type": "markdown",
   "metadata": {},
   "source": [
    "#### 1. Biz_Tech Article Plot"
   ]
  },
  {
   "cell_type": "code",
   "execution_count": 76,
   "metadata": {},
   "outputs": [
    {
     "data": {
      "image/png": "[encoded data removed]",
      "text/plain": [
       "<Figure size 432x288 with 1 Axes>"
      ]
     },
     "metadata": {
      "needs_background": "light"
     },
     "output_type": "display_data"
    }
   ],
   "source": [
    "wf_biz.plot(20)"
   ]
  },
  {
   "cell_type": "markdown",
   "metadata": {},
   "source": [
    "#### 2. Food Article Plot"
   ]
  },
  {
   "cell_type": "code",
   "execution_count": 77,
   "metadata": {},
   "outputs": [
    {
     "data": {
      "image/png": "[encoded data removed]",
      "text/plain": [
       "<Figure size 432x288 with 1 Axes>"
      ]
     },
     "metadata": {
      "needs_background": "light"
     },
     "output_type": "display_data"
    }
   ],
   "source": [
    "wf_fd.plot(20)"
   ]
  },
  {
   "cell_type": "markdown",
   "metadata": {},
   "source": [
    "#### 3. Sport Article Plot"
   ]
  },
  {
   "cell_type": "code",
   "execution_count": 2,
   "metadata": {},
   "outputs": [
    {
     "ename": "NameError",
     "evalue": "name 'wf_spt' is not defined",
     "output_type": "error",
     "traceback": [
      "\u001b[0;31m---------------------------------------------------------------------------\u001b[0m",
      "\u001b[0;31mNameError\u001b[0m                                 Traceback (most recent call last)",
      "\u001b[0;32m<ipython-input-2-859f558ff6fa>\u001b[0m in \u001b[0;36m<module>\u001b[0;34m\u001b[0m\n\u001b[0;32m----> 1\u001b[0;31m \u001b[0mwf_spt\u001b[0m\u001b[0;34m.\u001b[0m\u001b[0mplot\u001b[0m\u001b[0;34m(\u001b[0m\u001b[0;36m20\u001b[0m\u001b[0;34m)\u001b[0m\u001b[0;34m\u001b[0m\u001b[0;34m\u001b[0m\u001b[0m\n\u001b[0m",
      "\u001b[0;31mNameError\u001b[0m: name 'wf_spt' is not defined"
     ]
    }
   ],
   "source": [
    "wf_spt.plot(20)"
   ]
  },
  {
   "cell_type": "markdown",
   "metadata": {},
   "source": [
    "#### *Topics Discussion:"
   ]
  },
  {
   "cell_type": "markdown",
   "metadata": {},
   "source": [
    "**Now, we look through the topics inside one single category and check how the different from the overall topics.**\n",
    "\n",
    "**1.Biz_Tech:** By checking the frequency plot in business category, we found that the most popular words are: **\"new companies\", \"market\", \"service\", \"business and work\",\"plan\" and \"Million\".** Thus, combining those frequently-appeared words in the list, we might predict the heated topics under Biz_tech category would be **\"Company and people\", \"service and market\", \"Investment\", \"Youtube Company\" and \"global business\".**\n",
    "\n",
    "\n",
    "**2.Food:** By checking the frequency plot in food category, we found that the most popular words are: **\"restaurant\", \"wine and bars\", \"menu\", \"kithcen\" and \"chicken\".** Thus, combining those frequently-appeared words in the list,  we might predict the heated topics under food category would be **\"Best restaurant\", \"wine bars\", \"food type\" and \"best menus and kitchens\".**\n",
    "\n",
    "\n",
    "**3.Sports:** By checking the frequency plot in sports category, we found that the most five popular words are: **\"game/games\", \"points\", \"season\", \"football\" and \"NFL\".** Thus, combining those frequently-appeared words in the list,  we might predict the heated topics under sports category would be **\"NFL games\", \"football games\", \"players and coachs\" and \"Raiders\".**\n"
   ]
  },
  {
   "cell_type": "markdown",
   "metadata": {},
   "source": [
    "***Summary:**\n",
    "\n",
    "\n",
    "**We can find that the overall topics we predicted might be a general summary of three categories of articles. However, when look inside the one single category, we would find out more specific topics. For example, we find the biz_tech category contain more professional topics about \"globlal business\" and \"investment\"; Inside food category, we have professional topics like \"menus\" and \"kitchens\"; Inside sports category, we discover interesting topics lke \"NFL\" and \"football mactches\".In this way, we may conclude that when readers choose to select a specific category of articles, they would reach more professional and related articles as result.**"
   ]
  }
 ],
 "metadata": {
  "kernelspec": {
   "display_name": "Python 3",
   "language": "python",
   "name": "python3"
  },
  "language_info": {
   "codemirror_mode": {
    "name": "ipython",
    "version": 3
   },
   "file_extension": ".py",
   "mimetype": "text/x-python",
   "name": "python",
   "nbconvert_exporter": "python",
   "pygments_lexer": "ipython3",
   "version": "3.7.1"
  }
 },
 "nbformat": 4,
 "nbformat_minor": 2
}

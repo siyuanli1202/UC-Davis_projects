{
 "cells": [
  {
   "cell_type": "markdown",
   "metadata": {},
   "source": [
    "### Final Report\n",
    "Name: Siyuan Li | SID:914038304"
   ]
  },
  {
   "cell_type": "markdown",
   "metadata": {},
   "source": [
    "### Import packages:"
   ]
  },
  {
   "cell_type": "code",
   "execution_count": 96,
   "metadata": {},
   "outputs": [],
   "source": [
    "import numpy as np\n",
    "import pandas as pd\n",
    "\n",
    "import matplotlib.pyplot as plt\n",
    "import seaborn as sns\n",
    "\n",
    "from sklearn.linear_model import LinearRegression\n",
    "from sklearn.model_selection import train_test_split\n",
    "from sklearn.linear_model import LogisticRegression\n",
    "from sklearn.linear_model import LogisticRegression\n",
    "\n",
    "from sklearn.metrics import mean_squared_error\n",
    "from sklearn import linear_model\n",
    "from sklearn.metrics import r2_score\n",
    "\n",
    "from sklearn.decomposition import PCA\n",
    "from sklearn.preprocessing import StandardScaler\n",
    "\n",
    "from sklearn.neighbors import KNeighborsClassifier"
   ]
  },
  {
   "cell_type": "markdown",
   "metadata": {},
   "source": [
    "### Import Data"
   ]
  },
  {
   "cell_type": "code",
   "execution_count": 4,
   "metadata": {},
   "outputs": [],
   "source": [
    "# \"Superconductivity\"\n",
    "df_feat=pd.read_csv(\"train.csv\")\n",
    "df_chem=pd.read_csv(\"unique_m.csv\")"
   ]
  },
  {
   "cell_type": "code",
   "execution_count": 5,
   "metadata": {},
   "outputs": [
    {
     "data": {
      "text/html": [
       "<div>\n",
       "<style scoped>\n",
       "    .dataframe tbody tr th:only-of-type {\n",
       "        vertical-align: middle;\n",
       "    }\n",
       "\n",
       "    .dataframe tbody tr th {\n",
       "        vertical-align: top;\n",
       "    }\n",
       "\n",
       "    .dataframe thead th {\n",
       "        text-align: right;\n",
       "    }\n",
       "</style>\n",
       "<table border=\"1\" class=\"dataframe\">\n",
       "  <thead>\n",
       "    <tr style=\"text-align: right;\">\n",
       "      <th></th>\n",
       "      <th>number_of_elements</th>\n",
       "      <th>mean_atomic_mass</th>\n",
       "      <th>wtd_mean_atomic_mass</th>\n",
       "      <th>gmean_atomic_mass</th>\n",
       "      <th>wtd_gmean_atomic_mass</th>\n",
       "      <th>entropy_atomic_mass</th>\n",
       "      <th>wtd_entropy_atomic_mass</th>\n",
       "      <th>range_atomic_mass</th>\n",
       "      <th>wtd_range_atomic_mass</th>\n",
       "      <th>std_atomic_mass</th>\n",
       "      <th>...</th>\n",
       "      <th>wtd_mean_Valence</th>\n",
       "      <th>gmean_Valence</th>\n",
       "      <th>wtd_gmean_Valence</th>\n",
       "      <th>entropy_Valence</th>\n",
       "      <th>wtd_entropy_Valence</th>\n",
       "      <th>range_Valence</th>\n",
       "      <th>wtd_range_Valence</th>\n",
       "      <th>std_Valence</th>\n",
       "      <th>wtd_std_Valence</th>\n",
       "      <th>critical_temp</th>\n",
       "    </tr>\n",
       "  </thead>\n",
       "  <tbody>\n",
       "    <tr>\n",
       "      <th>0</th>\n",
       "      <td>4</td>\n",
       "      <td>88.944468</td>\n",
       "      <td>57.862692</td>\n",
       "      <td>66.361592</td>\n",
       "      <td>36.116612</td>\n",
       "      <td>1.181795</td>\n",
       "      <td>1.062396</td>\n",
       "      <td>122.90607</td>\n",
       "      <td>31.794921</td>\n",
       "      <td>51.968828</td>\n",
       "      <td>...</td>\n",
       "      <td>2.257143</td>\n",
       "      <td>2.213364</td>\n",
       "      <td>2.219783</td>\n",
       "      <td>1.368922</td>\n",
       "      <td>1.066221</td>\n",
       "      <td>1</td>\n",
       "      <td>1.085714</td>\n",
       "      <td>0.433013</td>\n",
       "      <td>0.437059</td>\n",
       "      <td>29.0</td>\n",
       "    </tr>\n",
       "    <tr>\n",
       "      <th>1</th>\n",
       "      <td>5</td>\n",
       "      <td>92.729214</td>\n",
       "      <td>58.518416</td>\n",
       "      <td>73.132787</td>\n",
       "      <td>36.396602</td>\n",
       "      <td>1.449309</td>\n",
       "      <td>1.057755</td>\n",
       "      <td>122.90607</td>\n",
       "      <td>36.161939</td>\n",
       "      <td>47.094633</td>\n",
       "      <td>...</td>\n",
       "      <td>2.257143</td>\n",
       "      <td>1.888175</td>\n",
       "      <td>2.210679</td>\n",
       "      <td>1.557113</td>\n",
       "      <td>1.047221</td>\n",
       "      <td>2</td>\n",
       "      <td>1.128571</td>\n",
       "      <td>0.632456</td>\n",
       "      <td>0.468606</td>\n",
       "      <td>26.0</td>\n",
       "    </tr>\n",
       "    <tr>\n",
       "      <th>2</th>\n",
       "      <td>4</td>\n",
       "      <td>88.944468</td>\n",
       "      <td>57.885242</td>\n",
       "      <td>66.361592</td>\n",
       "      <td>36.122509</td>\n",
       "      <td>1.181795</td>\n",
       "      <td>0.975980</td>\n",
       "      <td>122.90607</td>\n",
       "      <td>35.741099</td>\n",
       "      <td>51.968828</td>\n",
       "      <td>...</td>\n",
       "      <td>2.271429</td>\n",
       "      <td>2.213364</td>\n",
       "      <td>2.232679</td>\n",
       "      <td>1.368922</td>\n",
       "      <td>1.029175</td>\n",
       "      <td>1</td>\n",
       "      <td>1.114286</td>\n",
       "      <td>0.433013</td>\n",
       "      <td>0.444697</td>\n",
       "      <td>19.0</td>\n",
       "    </tr>\n",
       "    <tr>\n",
       "      <th>3</th>\n",
       "      <td>4</td>\n",
       "      <td>88.944468</td>\n",
       "      <td>57.873967</td>\n",
       "      <td>66.361592</td>\n",
       "      <td>36.119560</td>\n",
       "      <td>1.181795</td>\n",
       "      <td>1.022291</td>\n",
       "      <td>122.90607</td>\n",
       "      <td>33.768010</td>\n",
       "      <td>51.968828</td>\n",
       "      <td>...</td>\n",
       "      <td>2.264286</td>\n",
       "      <td>2.213364</td>\n",
       "      <td>2.226222</td>\n",
       "      <td>1.368922</td>\n",
       "      <td>1.048834</td>\n",
       "      <td>1</td>\n",
       "      <td>1.100000</td>\n",
       "      <td>0.433013</td>\n",
       "      <td>0.440952</td>\n",
       "      <td>22.0</td>\n",
       "    </tr>\n",
       "    <tr>\n",
       "      <th>4</th>\n",
       "      <td>4</td>\n",
       "      <td>88.944468</td>\n",
       "      <td>57.840143</td>\n",
       "      <td>66.361592</td>\n",
       "      <td>36.110716</td>\n",
       "      <td>1.181795</td>\n",
       "      <td>1.129224</td>\n",
       "      <td>122.90607</td>\n",
       "      <td>27.848743</td>\n",
       "      <td>51.968828</td>\n",
       "      <td>...</td>\n",
       "      <td>2.242857</td>\n",
       "      <td>2.213364</td>\n",
       "      <td>2.206963</td>\n",
       "      <td>1.368922</td>\n",
       "      <td>1.096052</td>\n",
       "      <td>1</td>\n",
       "      <td>1.057143</td>\n",
       "      <td>0.433013</td>\n",
       "      <td>0.428809</td>\n",
       "      <td>23.0</td>\n",
       "    </tr>\n",
       "    <tr>\n",
       "      <th>5</th>\n",
       "      <td>4</td>\n",
       "      <td>88.944468</td>\n",
       "      <td>57.795044</td>\n",
       "      <td>66.361592</td>\n",
       "      <td>36.098926</td>\n",
       "      <td>1.181795</td>\n",
       "      <td>1.225203</td>\n",
       "      <td>122.90607</td>\n",
       "      <td>20.687458</td>\n",
       "      <td>51.968828</td>\n",
       "      <td>...</td>\n",
       "      <td>2.214286</td>\n",
       "      <td>2.213364</td>\n",
       "      <td>2.181543</td>\n",
       "      <td>1.368922</td>\n",
       "      <td>1.141474</td>\n",
       "      <td>1</td>\n",
       "      <td>1.000000</td>\n",
       "      <td>0.433013</td>\n",
       "      <td>0.410326</td>\n",
       "      <td>23.0</td>\n",
       "    </tr>\n",
       "    <tr>\n",
       "      <th>6</th>\n",
       "      <td>4</td>\n",
       "      <td>88.944468</td>\n",
       "      <td>57.682296</td>\n",
       "      <td>66.361592</td>\n",
       "      <td>36.069470</td>\n",
       "      <td>1.181795</td>\n",
       "      <td>1.316857</td>\n",
       "      <td>122.90607</td>\n",
       "      <td>10.765639</td>\n",
       "      <td>51.968828</td>\n",
       "      <td>...</td>\n",
       "      <td>2.142857</td>\n",
       "      <td>2.213364</td>\n",
       "      <td>2.119268</td>\n",
       "      <td>1.368922</td>\n",
       "      <td>1.194453</td>\n",
       "      <td>1</td>\n",
       "      <td>0.857143</td>\n",
       "      <td>0.433013</td>\n",
       "      <td>0.349927</td>\n",
       "      <td>11.0</td>\n",
       "    </tr>\n",
       "    <tr>\n",
       "      <th>7</th>\n",
       "      <td>4</td>\n",
       "      <td>76.517718</td>\n",
       "      <td>57.175142</td>\n",
       "      <td>59.310096</td>\n",
       "      <td>35.891368</td>\n",
       "      <td>1.197273</td>\n",
       "      <td>0.943560</td>\n",
       "      <td>122.90607</td>\n",
       "      <td>36.451199</td>\n",
       "      <td>44.289459</td>\n",
       "      <td>...</td>\n",
       "      <td>2.271429</td>\n",
       "      <td>2.213364</td>\n",
       "      <td>2.232679</td>\n",
       "      <td>1.368922</td>\n",
       "      <td>1.029175</td>\n",
       "      <td>1</td>\n",
       "      <td>1.114286</td>\n",
       "      <td>0.433013</td>\n",
       "      <td>0.444697</td>\n",
       "      <td>33.0</td>\n",
       "    </tr>\n",
       "    <tr>\n",
       "      <th>8</th>\n",
       "      <td>4</td>\n",
       "      <td>76.517718</td>\n",
       "      <td>56.808817</td>\n",
       "      <td>59.310096</td>\n",
       "      <td>35.773432</td>\n",
       "      <td>1.197273</td>\n",
       "      <td>0.981880</td>\n",
       "      <td>122.90607</td>\n",
       "      <td>34.833160</td>\n",
       "      <td>44.289459</td>\n",
       "      <td>...</td>\n",
       "      <td>2.264286</td>\n",
       "      <td>2.213364</td>\n",
       "      <td>2.226222</td>\n",
       "      <td>1.368922</td>\n",
       "      <td>1.048834</td>\n",
       "      <td>1</td>\n",
       "      <td>1.100000</td>\n",
       "      <td>0.433013</td>\n",
       "      <td>0.440952</td>\n",
       "      <td>36.0</td>\n",
       "    </tr>\n",
       "    <tr>\n",
       "      <th>9</th>\n",
       "      <td>4</td>\n",
       "      <td>76.517718</td>\n",
       "      <td>56.442492</td>\n",
       "      <td>59.310096</td>\n",
       "      <td>35.655884</td>\n",
       "      <td>1.197273</td>\n",
       "      <td>1.016495</td>\n",
       "      <td>122.90607</td>\n",
       "      <td>33.215121</td>\n",
       "      <td>44.289459</td>\n",
       "      <td>...</td>\n",
       "      <td>2.257143</td>\n",
       "      <td>2.213364</td>\n",
       "      <td>2.219783</td>\n",
       "      <td>1.368922</td>\n",
       "      <td>1.066221</td>\n",
       "      <td>1</td>\n",
       "      <td>1.085714</td>\n",
       "      <td>0.433013</td>\n",
       "      <td>0.437059</td>\n",
       "      <td>31.0</td>\n",
       "    </tr>\n",
       "  </tbody>\n",
       "</table>\n",
       "<p>10 rows × 82 columns</p>\n",
       "</div>"
      ],
      "text/plain": [
       "   number_of_elements  mean_atomic_mass  wtd_mean_atomic_mass  \\\n",
       "0                   4         88.944468             57.862692   \n",
       "1                   5         92.729214             58.518416   \n",
       "2                   4         88.944468             57.885242   \n",
       "3                   4         88.944468             57.873967   \n",
       "4                   4         88.944468             57.840143   \n",
       "5                   4         88.944468             57.795044   \n",
       "6                   4         88.944468             57.682296   \n",
       "7                   4         76.517718             57.175142   \n",
       "8                   4         76.517718             56.808817   \n",
       "9                   4         76.517718             56.442492   \n",
       "\n",
       "   gmean_atomic_mass  wtd_gmean_atomic_mass  entropy_atomic_mass  \\\n",
       "0          66.361592              36.116612             1.181795   \n",
       "1          73.132787              36.396602             1.449309   \n",
       "2          66.361592              36.122509             1.181795   \n",
       "3          66.361592              36.119560             1.181795   \n",
       "4          66.361592              36.110716             1.181795   \n",
       "5          66.361592              36.098926             1.181795   \n",
       "6          66.361592              36.069470             1.181795   \n",
       "7          59.310096              35.891368             1.197273   \n",
       "8          59.310096              35.773432             1.197273   \n",
       "9          59.310096              35.655884             1.197273   \n",
       "\n",
       "   wtd_entropy_atomic_mass  range_atomic_mass  wtd_range_atomic_mass  \\\n",
       "0                 1.062396          122.90607              31.794921   \n",
       "1                 1.057755          122.90607              36.161939   \n",
       "2                 0.975980          122.90607              35.741099   \n",
       "3                 1.022291          122.90607              33.768010   \n",
       "4                 1.129224          122.90607              27.848743   \n",
       "5                 1.225203          122.90607              20.687458   \n",
       "6                 1.316857          122.90607              10.765639   \n",
       "7                 0.943560          122.90607              36.451199   \n",
       "8                 0.981880          122.90607              34.833160   \n",
       "9                 1.016495          122.90607              33.215121   \n",
       "\n",
       "   std_atomic_mass      ...        wtd_mean_Valence  gmean_Valence  \\\n",
       "0        51.968828      ...                2.257143       2.213364   \n",
       "1        47.094633      ...                2.257143       1.888175   \n",
       "2        51.968828      ...                2.271429       2.213364   \n",
       "3        51.968828      ...                2.264286       2.213364   \n",
       "4        51.968828      ...                2.242857       2.213364   \n",
       "5        51.968828      ...                2.214286       2.213364   \n",
       "6        51.968828      ...                2.142857       2.213364   \n",
       "7        44.289459      ...                2.271429       2.213364   \n",
       "8        44.289459      ...                2.264286       2.213364   \n",
       "9        44.289459      ...                2.257143       2.213364   \n",
       "\n",
       "   wtd_gmean_Valence  entropy_Valence  wtd_entropy_Valence  range_Valence  \\\n",
       "0           2.219783         1.368922             1.066221              1   \n",
       "1           2.210679         1.557113             1.047221              2   \n",
       "2           2.232679         1.368922             1.029175              1   \n",
       "3           2.226222         1.368922             1.048834              1   \n",
       "4           2.206963         1.368922             1.096052              1   \n",
       "5           2.181543         1.368922             1.141474              1   \n",
       "6           2.119268         1.368922             1.194453              1   \n",
       "7           2.232679         1.368922             1.029175              1   \n",
       "8           2.226222         1.368922             1.048834              1   \n",
       "9           2.219783         1.368922             1.066221              1   \n",
       "\n",
       "   wtd_range_Valence  std_Valence  wtd_std_Valence  critical_temp  \n",
       "0           1.085714     0.433013         0.437059           29.0  \n",
       "1           1.128571     0.632456         0.468606           26.0  \n",
       "2           1.114286     0.433013         0.444697           19.0  \n",
       "3           1.100000     0.433013         0.440952           22.0  \n",
       "4           1.057143     0.433013         0.428809           23.0  \n",
       "5           1.000000     0.433013         0.410326           23.0  \n",
       "6           0.857143     0.433013         0.349927           11.0  \n",
       "7           1.114286     0.433013         0.444697           33.0  \n",
       "8           1.100000     0.433013         0.440952           36.0  \n",
       "9           1.085714     0.433013         0.437059           31.0  \n",
       "\n",
       "[10 rows x 82 columns]"
      ]
     },
     "execution_count": 5,
     "metadata": {},
     "output_type": "execute_result"
    }
   ],
   "source": [
    "df_feat.head(10)"
   ]
  },
  {
   "cell_type": "markdown",
   "metadata": {},
   "source": [
    "### I. Descrptive Data Analysis:"
   ]
  },
  {
   "cell_type": "markdown",
   "metadata": {},
   "source": [
    "#### 1. Feature Properties:"
   ]
  },
  {
   "cell_type": "code",
   "execution_count": 6,
   "metadata": {},
   "outputs": [
    {
     "data": {
      "text/plain": [
       "82"
      ]
     },
     "execution_count": 6,
     "metadata": {},
     "output_type": "execute_result"
    }
   ],
   "source": [
    "### Check Features Information\n",
    "dt_ft_top = list(df_feat.columns.values)\n",
    "\n",
    "### Check Chemical Elements Information\n",
    "dt_che_top = list(df_chem.columns.values)\n",
    "\n",
    "## Check length of both two datasets\n",
    "len(dt_che_top)\n",
    "len(dt_ft_top)"
   ]
  },
  {
   "cell_type": "markdown",
   "metadata": {},
   "source": [
    "#### 2. Label Distribution:"
   ]
  },
  {
   "cell_type": "code",
   "execution_count": 7,
   "metadata": {},
   "outputs": [
    {
     "data": {
      "text/plain": [
       "count    21263.000000\n",
       "mean        34.421219\n",
       "std         34.254362\n",
       "min          0.000210\n",
       "25%          5.365000\n",
       "50%         20.000000\n",
       "75%         63.000000\n",
       "max        185.000000\n",
       "Name: critical_temp, dtype: float64"
      ]
     },
     "execution_count": 7,
     "metadata": {},
     "output_type": "execute_result"
    },
    {
     "data": {
      "image/png": "[encoded data removed]",
      "text/plain": [
       "<Figure size 432x288 with 1 Axes>"
      ]
     },
     "metadata": {
      "needs_background": "light"
     },
     "output_type": "display_data"
    }
   ],
   "source": [
    "# Check missing values\n",
    "df_feat.isnull().sum().sum()\n",
    "df_chem.isnull().sum().sum()\n",
    "\n",
    "# distribution of temperature label\n",
    "temp_label=df_feat.critical_temp\n",
    "plt.hist(temp_label)\n",
    "plt.title(\"Critical Temperature Range Distribution\")\n",
    "\n",
    "# Check critical temperature distribution\n",
    "df_feat['critical_temp'].describe()"
   ]
  },
  {
   "cell_type": "code",
   "execution_count": 8,
   "metadata": {},
   "outputs": [
    {
     "data": {
      "text/plain": [
       "count    21263.000000\n",
       "mean         4.115224\n",
       "std          1.439295\n",
       "min          1.000000\n",
       "25%          3.000000\n",
       "50%          4.000000\n",
       "75%          5.000000\n",
       "max          9.000000\n",
       "Name: number_of_elements, dtype: float64"
      ]
     },
     "execution_count": 8,
     "metadata": {},
     "output_type": "execute_result"
    },
    {
     "data": {
      "image/png": "[encoded data removed]",
      "text/plain": [
       "<Figure size 432x288 with 1 Axes>"
      ]
     },
     "metadata": {
      "needs_background": "light"
     },
     "output_type": "display_data"
    }
   ],
   "source": [
    "# distribution of number of elements \n",
    "nme_label=df_feat.number_of_elements\n",
    "plt.hist(nme_label)\n",
    "plt.title(\"Number of Elements Range Distribution\")\n",
    "\n",
    "df_feat['number_of_elements'].describe()"
   ]
  },
  {
   "cell_type": "markdown",
   "metadata": {},
   "source": [
    "#### 3.Elements Exploration:"
   ]
  },
  {
   "cell_type": "code",
   "execution_count": 9,
   "metadata": {},
   "outputs": [
    {
     "data": {
      "text/plain": [
       "<matplotlib.axes._subplots.AxesSubplot at 0x1a2190ac18>"
      ]
     },
     "execution_count": 9,
     "metadata": {},
     "output_type": "execute_result"
    },
    {
     "data": {
      "image/png": "[encoded data removed]",
      "text/plain": [
       "<Figure size 432x288 with 1 Axes>"
      ]
     },
     "metadata": {
      "needs_background": "light"
     },
     "output_type": "display_data"
    },
    {
     "data": {
      "image/png": "[encoded data removed]",
      "text/plain": [
       "<Figure size 432x288 with 1 Axes>"
      ]
     },
     "metadata": {
      "needs_background": "light"
     },
     "output_type": "display_data"
    }
   ],
   "source": [
    "# Get summary of chemical data\n",
    "chem_sum=df_chem.describe()\n",
    "\n",
    "# check the mean elements number\n",
    "chem_mean=chem_sum.iloc[1,0:86]\n",
    "chem_mean_dt=pd.DataFrame(chem_mean)\n",
    "chem_mean_dt=chem_mean_dt.sort_values(by=['mean'],ascending=False)\n",
    "chem_mean_dt=chem_mean_dt.iloc[0:9,]\n",
    "chem_mean_dt.plot(kind='bar',title =\"Top 10 Mean Number of Elements in Superconductor\")\n",
    "\n",
    "# check the max elements number\n",
    "chem_max=chem_sum.iloc[7,0:86]\n",
    "chem_max_dt=pd.DataFrame(chem_max)\n",
    "chem_max_dt=chem_max_dt.sort_values(by=['max'],ascending=False)\n",
    "chem_max_dt=chem_max_dt.iloc[0:9,]\n",
    "chem_max_dt.plot(kind='bar',title =\"Top 10 Max Number of Elements in Superconductor\")"
   ]
  },
  {
   "cell_type": "code",
   "execution_count": 10,
   "metadata": {},
   "outputs": [
    {
     "data": {
      "text/html": [
       "<div>\n",
       "<style scoped>\n",
       "    .dataframe tbody tr th:only-of-type {\n",
       "        vertical-align: middle;\n",
       "    }\n",
       "\n",
       "    .dataframe tbody tr th {\n",
       "        vertical-align: top;\n",
       "    }\n",
       "\n",
       "    .dataframe thead th {\n",
       "        text-align: right;\n",
       "    }\n",
       "</style>\n",
       "<table border=\"1\" class=\"dataframe\">\n",
       "  <thead>\n",
       "    <tr style=\"text-align: right;\">\n",
       "      <th></th>\n",
       "      <th>number_of_elements</th>\n",
       "      <th>mean_atomic_mass</th>\n",
       "      <th>wtd_mean_atomic_mass</th>\n",
       "      <th>gmean_atomic_mass</th>\n",
       "      <th>wtd_gmean_atomic_mass</th>\n",
       "      <th>entropy_atomic_mass</th>\n",
       "      <th>wtd_entropy_atomic_mass</th>\n",
       "      <th>range_atomic_mass</th>\n",
       "      <th>wtd_range_atomic_mass</th>\n",
       "      <th>std_atomic_mass</th>\n",
       "      <th>...</th>\n",
       "      <th>wtd_mean_Valence</th>\n",
       "      <th>gmean_Valence</th>\n",
       "      <th>wtd_gmean_Valence</th>\n",
       "      <th>entropy_Valence</th>\n",
       "      <th>wtd_entropy_Valence</th>\n",
       "      <th>range_Valence</th>\n",
       "      <th>wtd_range_Valence</th>\n",
       "      <th>std_Valence</th>\n",
       "      <th>wtd_std_Valence</th>\n",
       "      <th>critical_temp</th>\n",
       "    </tr>\n",
       "  </thead>\n",
       "  <tbody>\n",
       "    <tr>\n",
       "      <th>0</th>\n",
       "      <td>4</td>\n",
       "      <td>88.944468</td>\n",
       "      <td>57.862692</td>\n",
       "      <td>66.361592</td>\n",
       "      <td>36.116612</td>\n",
       "      <td>1.181795</td>\n",
       "      <td>1.062396</td>\n",
       "      <td>122.90607</td>\n",
       "      <td>31.794921</td>\n",
       "      <td>51.968828</td>\n",
       "      <td>...</td>\n",
       "      <td>2.257143</td>\n",
       "      <td>2.213364</td>\n",
       "      <td>2.219783</td>\n",
       "      <td>1.368922</td>\n",
       "      <td>1.066221</td>\n",
       "      <td>1</td>\n",
       "      <td>1.085714</td>\n",
       "      <td>0.433013</td>\n",
       "      <td>0.437059</td>\n",
       "      <td>29.0</td>\n",
       "    </tr>\n",
       "    <tr>\n",
       "      <th>1</th>\n",
       "      <td>5</td>\n",
       "      <td>92.729214</td>\n",
       "      <td>58.518416</td>\n",
       "      <td>73.132787</td>\n",
       "      <td>36.396602</td>\n",
       "      <td>1.449309</td>\n",
       "      <td>1.057755</td>\n",
       "      <td>122.90607</td>\n",
       "      <td>36.161939</td>\n",
       "      <td>47.094633</td>\n",
       "      <td>...</td>\n",
       "      <td>2.257143</td>\n",
       "      <td>1.888175</td>\n",
       "      <td>2.210679</td>\n",
       "      <td>1.557113</td>\n",
       "      <td>1.047221</td>\n",
       "      <td>2</td>\n",
       "      <td>1.128571</td>\n",
       "      <td>0.632456</td>\n",
       "      <td>0.468606</td>\n",
       "      <td>26.0</td>\n",
       "    </tr>\n",
       "    <tr>\n",
       "      <th>2</th>\n",
       "      <td>4</td>\n",
       "      <td>88.944468</td>\n",
       "      <td>57.885242</td>\n",
       "      <td>66.361592</td>\n",
       "      <td>36.122509</td>\n",
       "      <td>1.181795</td>\n",
       "      <td>0.975980</td>\n",
       "      <td>122.90607</td>\n",
       "      <td>35.741099</td>\n",
       "      <td>51.968828</td>\n",
       "      <td>...</td>\n",
       "      <td>2.271429</td>\n",
       "      <td>2.213364</td>\n",
       "      <td>2.232679</td>\n",
       "      <td>1.368922</td>\n",
       "      <td>1.029175</td>\n",
       "      <td>1</td>\n",
       "      <td>1.114286</td>\n",
       "      <td>0.433013</td>\n",
       "      <td>0.444697</td>\n",
       "      <td>19.0</td>\n",
       "    </tr>\n",
       "    <tr>\n",
       "      <th>3</th>\n",
       "      <td>4</td>\n",
       "      <td>88.944468</td>\n",
       "      <td>57.873967</td>\n",
       "      <td>66.361592</td>\n",
       "      <td>36.119560</td>\n",
       "      <td>1.181795</td>\n",
       "      <td>1.022291</td>\n",
       "      <td>122.90607</td>\n",
       "      <td>33.768010</td>\n",
       "      <td>51.968828</td>\n",
       "      <td>...</td>\n",
       "      <td>2.264286</td>\n",
       "      <td>2.213364</td>\n",
       "      <td>2.226222</td>\n",
       "      <td>1.368922</td>\n",
       "      <td>1.048834</td>\n",
       "      <td>1</td>\n",
       "      <td>1.100000</td>\n",
       "      <td>0.433013</td>\n",
       "      <td>0.440952</td>\n",
       "      <td>22.0</td>\n",
       "    </tr>\n",
       "    <tr>\n",
       "      <th>4</th>\n",
       "      <td>4</td>\n",
       "      <td>88.944468</td>\n",
       "      <td>57.840143</td>\n",
       "      <td>66.361592</td>\n",
       "      <td>36.110716</td>\n",
       "      <td>1.181795</td>\n",
       "      <td>1.129224</td>\n",
       "      <td>122.90607</td>\n",
       "      <td>27.848743</td>\n",
       "      <td>51.968828</td>\n",
       "      <td>...</td>\n",
       "      <td>2.242857</td>\n",
       "      <td>2.213364</td>\n",
       "      <td>2.206963</td>\n",
       "      <td>1.368922</td>\n",
       "      <td>1.096052</td>\n",
       "      <td>1</td>\n",
       "      <td>1.057143</td>\n",
       "      <td>0.433013</td>\n",
       "      <td>0.428809</td>\n",
       "      <td>23.0</td>\n",
       "    </tr>\n",
       "    <tr>\n",
       "      <th>5</th>\n",
       "      <td>4</td>\n",
       "      <td>88.944468</td>\n",
       "      <td>57.795044</td>\n",
       "      <td>66.361592</td>\n",
       "      <td>36.098926</td>\n",
       "      <td>1.181795</td>\n",
       "      <td>1.225203</td>\n",
       "      <td>122.90607</td>\n",
       "      <td>20.687458</td>\n",
       "      <td>51.968828</td>\n",
       "      <td>...</td>\n",
       "      <td>2.214286</td>\n",
       "      <td>2.213364</td>\n",
       "      <td>2.181543</td>\n",
       "      <td>1.368922</td>\n",
       "      <td>1.141474</td>\n",
       "      <td>1</td>\n",
       "      <td>1.000000</td>\n",
       "      <td>0.433013</td>\n",
       "      <td>0.410326</td>\n",
       "      <td>23.0</td>\n",
       "    </tr>\n",
       "    <tr>\n",
       "      <th>6</th>\n",
       "      <td>4</td>\n",
       "      <td>88.944468</td>\n",
       "      <td>57.682296</td>\n",
       "      <td>66.361592</td>\n",
       "      <td>36.069470</td>\n",
       "      <td>1.181795</td>\n",
       "      <td>1.316857</td>\n",
       "      <td>122.90607</td>\n",
       "      <td>10.765639</td>\n",
       "      <td>51.968828</td>\n",
       "      <td>...</td>\n",
       "      <td>2.142857</td>\n",
       "      <td>2.213364</td>\n",
       "      <td>2.119268</td>\n",
       "      <td>1.368922</td>\n",
       "      <td>1.194453</td>\n",
       "      <td>1</td>\n",
       "      <td>0.857143</td>\n",
       "      <td>0.433013</td>\n",
       "      <td>0.349927</td>\n",
       "      <td>11.0</td>\n",
       "    </tr>\n",
       "    <tr>\n",
       "      <th>7</th>\n",
       "      <td>4</td>\n",
       "      <td>76.517718</td>\n",
       "      <td>57.175142</td>\n",
       "      <td>59.310096</td>\n",
       "      <td>35.891368</td>\n",
       "      <td>1.197273</td>\n",
       "      <td>0.943560</td>\n",
       "      <td>122.90607</td>\n",
       "      <td>36.451199</td>\n",
       "      <td>44.289459</td>\n",
       "      <td>...</td>\n",
       "      <td>2.271429</td>\n",
       "      <td>2.213364</td>\n",
       "      <td>2.232679</td>\n",
       "      <td>1.368922</td>\n",
       "      <td>1.029175</td>\n",
       "      <td>1</td>\n",
       "      <td>1.114286</td>\n",
       "      <td>0.433013</td>\n",
       "      <td>0.444697</td>\n",
       "      <td>33.0</td>\n",
       "    </tr>\n",
       "    <tr>\n",
       "      <th>8</th>\n",
       "      <td>4</td>\n",
       "      <td>76.517718</td>\n",
       "      <td>56.808817</td>\n",
       "      <td>59.310096</td>\n",
       "      <td>35.773432</td>\n",
       "      <td>1.197273</td>\n",
       "      <td>0.981880</td>\n",
       "      <td>122.90607</td>\n",
       "      <td>34.833160</td>\n",
       "      <td>44.289459</td>\n",
       "      <td>...</td>\n",
       "      <td>2.264286</td>\n",
       "      <td>2.213364</td>\n",
       "      <td>2.226222</td>\n",
       "      <td>1.368922</td>\n",
       "      <td>1.048834</td>\n",
       "      <td>1</td>\n",
       "      <td>1.100000</td>\n",
       "      <td>0.433013</td>\n",
       "      <td>0.440952</td>\n",
       "      <td>36.0</td>\n",
       "    </tr>\n",
       "    <tr>\n",
       "      <th>9</th>\n",
       "      <td>4</td>\n",
       "      <td>76.517718</td>\n",
       "      <td>56.442492</td>\n",
       "      <td>59.310096</td>\n",
       "      <td>35.655884</td>\n",
       "      <td>1.197273</td>\n",
       "      <td>1.016495</td>\n",
       "      <td>122.90607</td>\n",
       "      <td>33.215121</td>\n",
       "      <td>44.289459</td>\n",
       "      <td>...</td>\n",
       "      <td>2.257143</td>\n",
       "      <td>2.213364</td>\n",
       "      <td>2.219783</td>\n",
       "      <td>1.368922</td>\n",
       "      <td>1.066221</td>\n",
       "      <td>1</td>\n",
       "      <td>1.085714</td>\n",
       "      <td>0.433013</td>\n",
       "      <td>0.437059</td>\n",
       "      <td>31.0</td>\n",
       "    </tr>\n",
       "    <tr>\n",
       "      <th>10</th>\n",
       "      <td>4</td>\n",
       "      <td>76.517718</td>\n",
       "      <td>55.709843</td>\n",
       "      <td>59.310096</td>\n",
       "      <td>35.421945</td>\n",
       "      <td>1.197273</td>\n",
       "      <td>1.077783</td>\n",
       "      <td>122.90607</td>\n",
       "      <td>29.979043</td>\n",
       "      <td>44.289459</td>\n",
       "      <td>...</td>\n",
       "      <td>2.242857</td>\n",
       "      <td>2.213364</td>\n",
       "      <td>2.206963</td>\n",
       "      <td>1.368922</td>\n",
       "      <td>1.096052</td>\n",
       "      <td>1</td>\n",
       "      <td>1.057143</td>\n",
       "      <td>0.433013</td>\n",
       "      <td>0.428809</td>\n",
       "      <td>33.0</td>\n",
       "    </tr>\n",
       "    <tr>\n",
       "      <th>11</th>\n",
       "      <td>5</td>\n",
       "      <td>111.273574</td>\n",
       "      <td>63.713457</td>\n",
       "      <td>82.793319</td>\n",
       "      <td>37.934231</td>\n",
       "      <td>1.409442</td>\n",
       "      <td>1.335472</td>\n",
       "      <td>184.59060</td>\n",
       "      <td>27.848743</td>\n",
       "      <td>64.459004</td>\n",
       "      <td>...</td>\n",
       "      <td>2.242857</td>\n",
       "      <td>2.168944</td>\n",
       "      <td>2.206963</td>\n",
       "      <td>1.594167</td>\n",
       "      <td>1.173869</td>\n",
       "      <td>1</td>\n",
       "      <td>1.057143</td>\n",
       "      <td>0.400000</td>\n",
       "      <td>0.428809</td>\n",
       "      <td>26.0</td>\n",
       "    </tr>\n",
       "    <tr>\n",
       "      <th>12</th>\n",
       "      <td>5</td>\n",
       "      <td>92.729214</td>\n",
       "      <td>58.201829</td>\n",
       "      <td>73.132787</td>\n",
       "      <td>36.259297</td>\n",
       "      <td>1.449309</td>\n",
       "      <td>1.026457</td>\n",
       "      <td>122.90607</td>\n",
       "      <td>36.932426</td>\n",
       "      <td>47.094633</td>\n",
       "      <td>...</td>\n",
       "      <td>2.264286</td>\n",
       "      <td>1.888175</td>\n",
       "      <td>2.221652</td>\n",
       "      <td>1.557113</td>\n",
       "      <td>1.040517</td>\n",
       "      <td>2</td>\n",
       "      <td>1.135714</td>\n",
       "      <td>0.632456</td>\n",
       "      <td>0.456864</td>\n",
       "      <td>27.0</td>\n",
       "    </tr>\n",
       "    <tr>\n",
       "      <th>13</th>\n",
       "      <td>5</td>\n",
       "      <td>92.729214</td>\n",
       "      <td>58.518416</td>\n",
       "      <td>73.132787</td>\n",
       "      <td>36.396602</td>\n",
       "      <td>1.449309</td>\n",
       "      <td>1.057755</td>\n",
       "      <td>122.90607</td>\n",
       "      <td>36.161939</td>\n",
       "      <td>47.094633</td>\n",
       "      <td>...</td>\n",
       "      <td>2.257143</td>\n",
       "      <td>1.888175</td>\n",
       "      <td>2.210679</td>\n",
       "      <td>1.557113</td>\n",
       "      <td>1.047221</td>\n",
       "      <td>2</td>\n",
       "      <td>1.128571</td>\n",
       "      <td>0.632456</td>\n",
       "      <td>0.468606</td>\n",
       "      <td>27.0</td>\n",
       "    </tr>\n",
       "    <tr>\n",
       "      <th>14</th>\n",
       "      <td>5</td>\n",
       "      <td>92.729214</td>\n",
       "      <td>59.468178</td>\n",
       "      <td>73.132787</td>\n",
       "      <td>36.811646</td>\n",
       "      <td>1.449309</td>\n",
       "      <td>1.114758</td>\n",
       "      <td>122.90607</td>\n",
       "      <td>35.741099</td>\n",
       "      <td>47.094633</td>\n",
       "      <td>...</td>\n",
       "      <td>2.235714</td>\n",
       "      <td>1.888175</td>\n",
       "      <td>2.178087</td>\n",
       "      <td>1.557113</td>\n",
       "      <td>1.057441</td>\n",
       "      <td>2</td>\n",
       "      <td>1.114286</td>\n",
       "      <td>0.632456</td>\n",
       "      <td>0.501579</td>\n",
       "      <td>26.0</td>\n",
       "    </tr>\n",
       "    <tr>\n",
       "      <th>15</th>\n",
       "      <td>5</td>\n",
       "      <td>92.729214</td>\n",
       "      <td>61.051113</td>\n",
       "      <td>73.132787</td>\n",
       "      <td>37.513930</td>\n",
       "      <td>1.449309</td>\n",
       "      <td>1.146919</td>\n",
       "      <td>122.90607</td>\n",
       "      <td>35.741099</td>\n",
       "      <td>47.094633</td>\n",
       "      <td>...</td>\n",
       "      <td>2.200000</td>\n",
       "      <td>1.888175</td>\n",
       "      <td>2.124829</td>\n",
       "      <td>1.557113</td>\n",
       "      <td>1.053346</td>\n",
       "      <td>2</td>\n",
       "      <td>1.114286</td>\n",
       "      <td>0.632456</td>\n",
       "      <td>0.550325</td>\n",
       "      <td>27.0</td>\n",
       "    </tr>\n",
       "    <tr>\n",
       "      <th>16</th>\n",
       "      <td>5</td>\n",
       "      <td>69.171250</td>\n",
       "      <td>47.505319</td>\n",
       "      <td>54.872765</td>\n",
       "      <td>33.319073</td>\n",
       "      <td>1.419173</td>\n",
       "      <td>1.428952</td>\n",
       "      <td>121.32760</td>\n",
       "      <td>14.303962</td>\n",
       "      <td>41.809011</td>\n",
       "      <td>...</td>\n",
       "      <td>2.076923</td>\n",
       "      <td>2.168944</td>\n",
       "      <td>2.063362</td>\n",
       "      <td>1.594167</td>\n",
       "      <td>1.285132</td>\n",
       "      <td>1</td>\n",
       "      <td>1.000000</td>\n",
       "      <td>0.400000</td>\n",
       "      <td>0.266469</td>\n",
       "      <td>82.0</td>\n",
       "    </tr>\n",
       "    <tr>\n",
       "      <th>17</th>\n",
       "      <td>4</td>\n",
       "      <td>88.944468</td>\n",
       "      <td>57.873967</td>\n",
       "      <td>66.361592</td>\n",
       "      <td>36.119560</td>\n",
       "      <td>1.181795</td>\n",
       "      <td>1.022291</td>\n",
       "      <td>122.90607</td>\n",
       "      <td>33.768010</td>\n",
       "      <td>51.968828</td>\n",
       "      <td>...</td>\n",
       "      <td>2.264286</td>\n",
       "      <td>2.213364</td>\n",
       "      <td>2.226222</td>\n",
       "      <td>1.368922</td>\n",
       "      <td>1.048834</td>\n",
       "      <td>1</td>\n",
       "      <td>1.100000</td>\n",
       "      <td>0.433013</td>\n",
       "      <td>0.440952</td>\n",
       "      <td>30.0</td>\n",
       "    </tr>\n",
       "    <tr>\n",
       "      <th>18</th>\n",
       "      <td>4</td>\n",
       "      <td>76.517718</td>\n",
       "      <td>56.808817</td>\n",
       "      <td>59.310096</td>\n",
       "      <td>35.773432</td>\n",
       "      <td>1.197273</td>\n",
       "      <td>0.981880</td>\n",
       "      <td>122.90607</td>\n",
       "      <td>34.833160</td>\n",
       "      <td>44.289459</td>\n",
       "      <td>...</td>\n",
       "      <td>2.264286</td>\n",
       "      <td>2.213364</td>\n",
       "      <td>2.226222</td>\n",
       "      <td>1.368922</td>\n",
       "      <td>1.048834</td>\n",
       "      <td>1</td>\n",
       "      <td>1.100000</td>\n",
       "      <td>0.433013</td>\n",
       "      <td>0.440952</td>\n",
       "      <td>39.0</td>\n",
       "    </tr>\n",
       "    <tr>\n",
       "      <th>19</th>\n",
       "      <td>4</td>\n",
       "      <td>76.517718</td>\n",
       "      <td>57.541467</td>\n",
       "      <td>59.310096</td>\n",
       "      <td>36.009693</td>\n",
       "      <td>1.197273</td>\n",
       "      <td>0.899625</td>\n",
       "      <td>122.90607</td>\n",
       "      <td>38.069238</td>\n",
       "      <td>44.289459</td>\n",
       "      <td>...</td>\n",
       "      <td>2.278571</td>\n",
       "      <td>2.213364</td>\n",
       "      <td>2.239154</td>\n",
       "      <td>1.368922</td>\n",
       "      <td>1.006120</td>\n",
       "      <td>1</td>\n",
       "      <td>1.128571</td>\n",
       "      <td>0.433013</td>\n",
       "      <td>0.448296</td>\n",
       "      <td>14.8</td>\n",
       "    </tr>\n",
       "  </tbody>\n",
       "</table>\n",
       "<p>20 rows × 82 columns</p>\n",
       "</div>"
      ],
      "text/plain": [
       "    number_of_elements  mean_atomic_mass  wtd_mean_atomic_mass  \\\n",
       "0                    4         88.944468             57.862692   \n",
       "1                    5         92.729214             58.518416   \n",
       "2                    4         88.944468             57.885242   \n",
       "3                    4         88.944468             57.873967   \n",
       "4                    4         88.944468             57.840143   \n",
       "5                    4         88.944468             57.795044   \n",
       "6                    4         88.944468             57.682296   \n",
       "7                    4         76.517718             57.175142   \n",
       "8                    4         76.517718             56.808817   \n",
       "9                    4         76.517718             56.442492   \n",
       "10                   4         76.517718             55.709843   \n",
       "11                   5        111.273574             63.713457   \n",
       "12                   5         92.729214             58.201829   \n",
       "13                   5         92.729214             58.518416   \n",
       "14                   5         92.729214             59.468178   \n",
       "15                   5         92.729214             61.051113   \n",
       "16                   5         69.171250             47.505319   \n",
       "17                   4         88.944468             57.873967   \n",
       "18                   4         76.517718             56.808817   \n",
       "19                   4         76.517718             57.541467   \n",
       "\n",
       "    gmean_atomic_mass  wtd_gmean_atomic_mass  entropy_atomic_mass  \\\n",
       "0           66.361592              36.116612             1.181795   \n",
       "1           73.132787              36.396602             1.449309   \n",
       "2           66.361592              36.122509             1.181795   \n",
       "3           66.361592              36.119560             1.181795   \n",
       "4           66.361592              36.110716             1.181795   \n",
       "5           66.361592              36.098926             1.181795   \n",
       "6           66.361592              36.069470             1.181795   \n",
       "7           59.310096              35.891368             1.197273   \n",
       "8           59.310096              35.773432             1.197273   \n",
       "9           59.310096              35.655884             1.197273   \n",
       "10          59.310096              35.421945             1.197273   \n",
       "11          82.793319              37.934231             1.409442   \n",
       "12          73.132787              36.259297             1.449309   \n",
       "13          73.132787              36.396602             1.449309   \n",
       "14          73.132787              36.811646             1.449309   \n",
       "15          73.132787              37.513930             1.449309   \n",
       "16          54.872765              33.319073             1.419173   \n",
       "17          66.361592              36.119560             1.181795   \n",
       "18          59.310096              35.773432             1.197273   \n",
       "19          59.310096              36.009693             1.197273   \n",
       "\n",
       "    wtd_entropy_atomic_mass  range_atomic_mass  wtd_range_atomic_mass  \\\n",
       "0                  1.062396          122.90607              31.794921   \n",
       "1                  1.057755          122.90607              36.161939   \n",
       "2                  0.975980          122.90607              35.741099   \n",
       "3                  1.022291          122.90607              33.768010   \n",
       "4                  1.129224          122.90607              27.848743   \n",
       "5                  1.225203          122.90607              20.687458   \n",
       "6                  1.316857          122.90607              10.765639   \n",
       "7                  0.943560          122.90607              36.451199   \n",
       "8                  0.981880          122.90607              34.833160   \n",
       "9                  1.016495          122.90607              33.215121   \n",
       "10                 1.077783          122.90607              29.979043   \n",
       "11                 1.335472          184.59060              27.848743   \n",
       "12                 1.026457          122.90607              36.932426   \n",
       "13                 1.057755          122.90607              36.161939   \n",
       "14                 1.114758          122.90607              35.741099   \n",
       "15                 1.146919          122.90607              35.741099   \n",
       "16                 1.428952          121.32760              14.303962   \n",
       "17                 1.022291          122.90607              33.768010   \n",
       "18                 0.981880          122.90607              34.833160   \n",
       "19                 0.899625          122.90607              38.069238   \n",
       "\n",
       "    std_atomic_mass      ...        wtd_mean_Valence  gmean_Valence  \\\n",
       "0         51.968828      ...                2.257143       2.213364   \n",
       "1         47.094633      ...                2.257143       1.888175   \n",
       "2         51.968828      ...                2.271429       2.213364   \n",
       "3         51.968828      ...                2.264286       2.213364   \n",
       "4         51.968828      ...                2.242857       2.213364   \n",
       "5         51.968828      ...                2.214286       2.213364   \n",
       "6         51.968828      ...                2.142857       2.213364   \n",
       "7         44.289459      ...                2.271429       2.213364   \n",
       "8         44.289459      ...                2.264286       2.213364   \n",
       "9         44.289459      ...                2.257143       2.213364   \n",
       "10        44.289459      ...                2.242857       2.213364   \n",
       "11        64.459004      ...                2.242857       2.168944   \n",
       "12        47.094633      ...                2.264286       1.888175   \n",
       "13        47.094633      ...                2.257143       1.888175   \n",
       "14        47.094633      ...                2.235714       1.888175   \n",
       "15        47.094633      ...                2.200000       1.888175   \n",
       "16        41.809011      ...                2.076923       2.168944   \n",
       "17        51.968828      ...                2.264286       2.213364   \n",
       "18        44.289459      ...                2.264286       2.213364   \n",
       "19        44.289459      ...                2.278571       2.213364   \n",
       "\n",
       "    wtd_gmean_Valence  entropy_Valence  wtd_entropy_Valence  range_Valence  \\\n",
       "0            2.219783         1.368922             1.066221              1   \n",
       "1            2.210679         1.557113             1.047221              2   \n",
       "2            2.232679         1.368922             1.029175              1   \n",
       "3            2.226222         1.368922             1.048834              1   \n",
       "4            2.206963         1.368922             1.096052              1   \n",
       "5            2.181543         1.368922             1.141474              1   \n",
       "6            2.119268         1.368922             1.194453              1   \n",
       "7            2.232679         1.368922             1.029175              1   \n",
       "8            2.226222         1.368922             1.048834              1   \n",
       "9            2.219783         1.368922             1.066221              1   \n",
       "10           2.206963         1.368922             1.096052              1   \n",
       "11           2.206963         1.594167             1.173869              1   \n",
       "12           2.221652         1.557113             1.040517              2   \n",
       "13           2.210679         1.557113             1.047221              2   \n",
       "14           2.178087         1.557113             1.057441              2   \n",
       "15           2.124829         1.557113             1.053346              2   \n",
       "16           2.063362         1.594167             1.285132              1   \n",
       "17           2.226222         1.368922             1.048834              1   \n",
       "18           2.226222         1.368922             1.048834              1   \n",
       "19           2.239154         1.368922             1.006120              1   \n",
       "\n",
       "    wtd_range_Valence  std_Valence  wtd_std_Valence  critical_temp  \n",
       "0            1.085714     0.433013         0.437059           29.0  \n",
       "1            1.128571     0.632456         0.468606           26.0  \n",
       "2            1.114286     0.433013         0.444697           19.0  \n",
       "3            1.100000     0.433013         0.440952           22.0  \n",
       "4            1.057143     0.433013         0.428809           23.0  \n",
       "5            1.000000     0.433013         0.410326           23.0  \n",
       "6            0.857143     0.433013         0.349927           11.0  \n",
       "7            1.114286     0.433013         0.444697           33.0  \n",
       "8            1.100000     0.433013         0.440952           36.0  \n",
       "9            1.085714     0.433013         0.437059           31.0  \n",
       "10           1.057143     0.433013         0.428809           33.0  \n",
       "11           1.057143     0.400000         0.428809           26.0  \n",
       "12           1.135714     0.632456         0.456864           27.0  \n",
       "13           1.128571     0.632456         0.468606           27.0  \n",
       "14           1.114286     0.632456         0.501579           26.0  \n",
       "15           1.114286     0.632456         0.550325           27.0  \n",
       "16           1.000000     0.400000         0.266469           82.0  \n",
       "17           1.100000     0.433013         0.440952           30.0  \n",
       "18           1.100000     0.433013         0.440952           39.0  \n",
       "19           1.128571     0.433013         0.448296           14.8  \n",
       "\n",
       "[20 rows x 82 columns]"
      ]
     },
     "execution_count": 10,
     "metadata": {},
     "output_type": "execute_result"
    }
   ],
   "source": [
    "# check feature dataset\n",
    "df_feat.head(20)"
   ]
  },
  {
   "cell_type": "markdown",
   "metadata": {},
   "source": [
    "### II. Regression Analysis:"
   ]
  },
  {
   "cell_type": "code",
   "execution_count": 66,
   "metadata": {},
   "outputs": [],
   "source": [
    "# split the dataset into train and test groups:\n",
    "X=df_feat.iloc[:,0:81]\n",
    "Y=temp_label.astype(\"float\")"
   ]
  },
  {
   "cell_type": "markdown",
   "metadata": {},
   "source": [
    "#### 1. Multiple linear regression:"
   ]
  },
  {
   "cell_type": "code",
   "execution_count": 12,
   "metadata": {},
   "outputs": [],
   "source": [
    "# define a function: calcuate average MSE score based on 30 random testing:\n",
    "def MLR_mse(X, Y):\n",
    "    mse_ls=np.empty(30)\n",
    "    r_ls=np.empty(30)\n",
    "    \n",
    "    for i in range(30):\n",
    "        X_train, X_test, Y_train, Y_test = \\\n",
    "        train_test_split(X, Y, test_size=0.3)\n",
    "        lr=LinearRegression(fit_intercept=True)\n",
    "        lr.fit(X_train,Y_train)\n",
    "        preds = lr.predict(X_test)\n",
    "        mse_ls[i]=mean_squared_error(Y_test, preds)\n",
    "        r_ls[i]=r2_score(Y_test, preds)\n",
    "    \n",
    "    mse_score=np.mean(mse_ls)\n",
    "    r_score=np.mean(r_ls)\n",
    "    \n",
    "    return mse_score, r_score\n"
   ]
  },
  {
   "cell_type": "code",
   "execution_count": 13,
   "metadata": {},
   "outputs": [
    {
     "data": {
      "text/plain": [
       "(310.9152063968664, 0.7357814421828657)"
      ]
     },
     "execution_count": 13,
     "metadata": {},
     "output_type": "execute_result"
    }
   ],
   "source": [
    "MLR_mse(X,Y)"
   ]
  },
  {
   "cell_type": "markdown",
   "metadata": {},
   "source": [
    "#### 2. Ridge regression:"
   ]
  },
  {
   "cell_type": "code",
   "execution_count": 14,
   "metadata": {},
   "outputs": [],
   "source": [
    "# define a function: calcuate average MSE score based on 30 random testing:\n",
    "def RID_mse(X, Y):\n",
    "    mse_ls=np.empty(30)\n",
    "    r_ls=np.empty(30)\n",
    "    \n",
    "    for i in range(30):\n",
    "        X_train, X_test, Y_train, Y_test = \\\n",
    "        train_test_split(X, Y, test_size=0.3)\n",
    "        reg = linear_model.Ridge(alpha=.5)\n",
    "        reg.fit(X_train,Y_train)\n",
    "        preds = reg.predict(X_test)\n",
    "        mse_ls[i]=mean_squared_error(Y_test, preds)\n",
    "        r_ls[i]=r2_score(Y_test, preds)\n",
    "    \n",
    "    mse_score=np.mean(mse_ls)\n",
    "    r_score=np.mean(r_ls)\n",
    "    \n",
    "    return mse_score,r_score\n"
   ]
  },
  {
   "cell_type": "code",
   "execution_count": 15,
   "metadata": {},
   "outputs": [
    {
     "data": {
      "text/plain": [
       "(312.825573008924, 0.733718176673491)"
      ]
     },
     "execution_count": 15,
     "metadata": {},
     "output_type": "execute_result"
    }
   ],
   "source": [
    "RID_mse(X,Y)"
   ]
  },
  {
   "cell_type": "markdown",
   "metadata": {},
   "source": [
    "#### 3. Lasso regression:"
   ]
  },
  {
   "cell_type": "code",
   "execution_count": 16,
   "metadata": {},
   "outputs": [],
   "source": [
    "# define a function: calcuate average MSE score based on 30 random testing:\n",
    "def LASSO_mse(X, Y):\n",
    "    mse_ls=np.empty(30)\n",
    "    r_ls=np.empty(30)\n",
    "    \n",
    "    for i in range(30):\n",
    "        X_train, X_test, Y_train, Y_test = \\\n",
    "        train_test_split(X, Y, test_size=0.3)\n",
    "        reg = linear_model.Lasso(alpha=0.1)\n",
    "        reg.fit(X_train,Y_train)\n",
    "        preds = reg.predict(X_test)\n",
    "        mse_ls[i]=mean_squared_error(Y_test, preds)\n",
    "        r_ls[i]=r2_score(Y_test, preds)\n",
    "    \n",
    "    mse_score=np.mean(mse_ls)\n",
    "    r_score=np.mean(r_ls)\n",
    "    \n",
    "    return mse_score,r_score\n"
   ]
  },
  {
   "cell_type": "code",
   "execution_count": 17,
   "metadata": {},
   "outputs": [
    {
     "name": "stderr",
     "output_type": "stream",
     "text": [
      "/Users/Sssiyuan/anaconda3/lib/python3.7/site-packages/sklearn/linear_model/coordinate_descent.py:492: ConvergenceWarning: Objective did not converge. You might want to increase the number of iterations. Fitting data with very small alpha may cause precision problems.\n",
      "  ConvergenceWarning)\n",
      "/Users/Sssiyuan/anaconda3/lib/python3.7/site-packages/sklearn/linear_model/coordinate_descent.py:492: ConvergenceWarning: Objective did not converge. You might want to increase the number of iterations. Fitting data with very small alpha may cause precision problems.\n",
      "  ConvergenceWarning)\n",
      "/Users/Sssiyuan/anaconda3/lib/python3.7/site-packages/sklearn/linear_model/coordinate_descent.py:492: ConvergenceWarning: Objective did not converge. You might want to increase the number of iterations. Fitting data with very small alpha may cause precision problems.\n",
      "  ConvergenceWarning)\n",
      "/Users/Sssiyuan/anaconda3/lib/python3.7/site-packages/sklearn/linear_model/coordinate_descent.py:492: ConvergenceWarning: Objective did not converge. You might want to increase the number of iterations. Fitting data with very small alpha may cause precision problems.\n",
      "  ConvergenceWarning)\n",
      "/Users/Sssiyuan/anaconda3/lib/python3.7/site-packages/sklearn/linear_model/coordinate_descent.py:492: ConvergenceWarning: Objective did not converge. You might want to increase the number of iterations. Fitting data with very small alpha may cause precision problems.\n",
      "  ConvergenceWarning)\n",
      "/Users/Sssiyuan/anaconda3/lib/python3.7/site-packages/sklearn/linear_model/coordinate_descent.py:492: ConvergenceWarning: Objective did not converge. You might want to increase the number of iterations. Fitting data with very small alpha may cause precision problems.\n",
      "  ConvergenceWarning)\n",
      "/Users/Sssiyuan/anaconda3/lib/python3.7/site-packages/sklearn/linear_model/coordinate_descent.py:492: ConvergenceWarning: Objective did not converge. You might want to increase the number of iterations. Fitting data with very small alpha may cause precision problems.\n",
      "  ConvergenceWarning)\n",
      "/Users/Sssiyuan/anaconda3/lib/python3.7/site-packages/sklearn/linear_model/coordinate_descent.py:492: ConvergenceWarning: Objective did not converge. You might want to increase the number of iterations. Fitting data with very small alpha may cause precision problems.\n",
      "  ConvergenceWarning)\n",
      "/Users/Sssiyuan/anaconda3/lib/python3.7/site-packages/sklearn/linear_model/coordinate_descent.py:492: ConvergenceWarning: Objective did not converge. You might want to increase the number of iterations. Fitting data with very small alpha may cause precision problems.\n",
      "  ConvergenceWarning)\n",
      "/Users/Sssiyuan/anaconda3/lib/python3.7/site-packages/sklearn/linear_model/coordinate_descent.py:492: ConvergenceWarning: Objective did not converge. You might want to increase the number of iterations. Fitting data with very small alpha may cause precision problems.\n",
      "  ConvergenceWarning)\n",
      "/Users/Sssiyuan/anaconda3/lib/python3.7/site-packages/sklearn/linear_model/coordinate_descent.py:492: ConvergenceWarning: Objective did not converge. You might want to increase the number of iterations. Fitting data with very small alpha may cause precision problems.\n",
      "  ConvergenceWarning)\n",
      "/Users/Sssiyuan/anaconda3/lib/python3.7/site-packages/sklearn/linear_model/coordinate_descent.py:492: ConvergenceWarning: Objective did not converge. You might want to increase the number of iterations. Fitting data with very small alpha may cause precision problems.\n",
      "  ConvergenceWarning)\n",
      "/Users/Sssiyuan/anaconda3/lib/python3.7/site-packages/sklearn/linear_model/coordinate_descent.py:492: ConvergenceWarning: Objective did not converge. You might want to increase the number of iterations. Fitting data with very small alpha may cause precision problems.\n",
      "  ConvergenceWarning)\n",
      "/Users/Sssiyuan/anaconda3/lib/python3.7/site-packages/sklearn/linear_model/coordinate_descent.py:492: ConvergenceWarning: Objective did not converge. You might want to increase the number of iterations. Fitting data with very small alpha may cause precision problems.\n",
      "  ConvergenceWarning)\n",
      "/Users/Sssiyuan/anaconda3/lib/python3.7/site-packages/sklearn/linear_model/coordinate_descent.py:492: ConvergenceWarning: Objective did not converge. You might want to increase the number of iterations. Fitting data with very small alpha may cause precision problems.\n",
      "  ConvergenceWarning)\n",
      "/Users/Sssiyuan/anaconda3/lib/python3.7/site-packages/sklearn/linear_model/coordinate_descent.py:492: ConvergenceWarning: Objective did not converge. You might want to increase the number of iterations. Fitting data with very small alpha may cause precision problems.\n",
      "  ConvergenceWarning)\n",
      "/Users/Sssiyuan/anaconda3/lib/python3.7/site-packages/sklearn/linear_model/coordinate_descent.py:492: ConvergenceWarning: Objective did not converge. You might want to increase the number of iterations. Fitting data with very small alpha may cause precision problems.\n",
      "  ConvergenceWarning)\n",
      "/Users/Sssiyuan/anaconda3/lib/python3.7/site-packages/sklearn/linear_model/coordinate_descent.py:492: ConvergenceWarning: Objective did not converge. You might want to increase the number of iterations. Fitting data with very small alpha may cause precision problems.\n",
      "  ConvergenceWarning)\n",
      "/Users/Sssiyuan/anaconda3/lib/python3.7/site-packages/sklearn/linear_model/coordinate_descent.py:492: ConvergenceWarning: Objective did not converge. You might want to increase the number of iterations. Fitting data with very small alpha may cause precision problems.\n",
      "  ConvergenceWarning)\n",
      "/Users/Sssiyuan/anaconda3/lib/python3.7/site-packages/sklearn/linear_model/coordinate_descent.py:492: ConvergenceWarning: Objective did not converge. You might want to increase the number of iterations. Fitting data with very small alpha may cause precision problems.\n",
      "  ConvergenceWarning)\n",
      "/Users/Sssiyuan/anaconda3/lib/python3.7/site-packages/sklearn/linear_model/coordinate_descent.py:492: ConvergenceWarning: Objective did not converge. You might want to increase the number of iterations. Fitting data with very small alpha may cause precision problems.\n",
      "  ConvergenceWarning)\n",
      "/Users/Sssiyuan/anaconda3/lib/python3.7/site-packages/sklearn/linear_model/coordinate_descent.py:492: ConvergenceWarning: Objective did not converge. You might want to increase the number of iterations. Fitting data with very small alpha may cause precision problems.\n",
      "  ConvergenceWarning)\n",
      "/Users/Sssiyuan/anaconda3/lib/python3.7/site-packages/sklearn/linear_model/coordinate_descent.py:492: ConvergenceWarning: Objective did not converge. You might want to increase the number of iterations. Fitting data with very small alpha may cause precision problems.\n",
      "  ConvergenceWarning)\n",
      "/Users/Sssiyuan/anaconda3/lib/python3.7/site-packages/sklearn/linear_model/coordinate_descent.py:492: ConvergenceWarning: Objective did not converge. You might want to increase the number of iterations. Fitting data with very small alpha may cause precision problems.\n",
      "  ConvergenceWarning)\n",
      "/Users/Sssiyuan/anaconda3/lib/python3.7/site-packages/sklearn/linear_model/coordinate_descent.py:492: ConvergenceWarning: Objective did not converge. You might want to increase the number of iterations. Fitting data with very small alpha may cause precision problems.\n",
      "  ConvergenceWarning)\n",
      "/Users/Sssiyuan/anaconda3/lib/python3.7/site-packages/sklearn/linear_model/coordinate_descent.py:492: ConvergenceWarning: Objective did not converge. You might want to increase the number of iterations. Fitting data with very small alpha may cause precision problems.\n",
      "  ConvergenceWarning)\n",
      "/Users/Sssiyuan/anaconda3/lib/python3.7/site-packages/sklearn/linear_model/coordinate_descent.py:492: ConvergenceWarning: Objective did not converge. You might want to increase the number of iterations. Fitting data with very small alpha may cause precision problems.\n",
      "  ConvergenceWarning)\n",
      "/Users/Sssiyuan/anaconda3/lib/python3.7/site-packages/sklearn/linear_model/coordinate_descent.py:492: ConvergenceWarning: Objective did not converge. You might want to increase the number of iterations. Fitting data with very small alpha may cause precision problems.\n",
      "  ConvergenceWarning)\n",
      "/Users/Sssiyuan/anaconda3/lib/python3.7/site-packages/sklearn/linear_model/coordinate_descent.py:492: ConvergenceWarning: Objective did not converge. You might want to increase the number of iterations. Fitting data with very small alpha may cause precision problems.\n",
      "  ConvergenceWarning)\n"
     ]
    },
    {
     "name": "stderr",
     "output_type": "stream",
     "text": [
      "/Users/Sssiyuan/anaconda3/lib/python3.7/site-packages/sklearn/linear_model/coordinate_descent.py:492: ConvergenceWarning: Objective did not converge. You might want to increase the number of iterations. Fitting data with very small alpha may cause precision problems.\n",
      "  ConvergenceWarning)\n"
     ]
    },
    {
     "data": {
      "text/plain": [
       "(325.5197785581343, 0.7219087878898324)"
      ]
     },
     "execution_count": 17,
     "metadata": {},
     "output_type": "execute_result"
    }
   ],
   "source": [
    "LASSO_mse(X,Y)"
   ]
  },
  {
   "cell_type": "markdown",
   "metadata": {},
   "source": [
    "#### 4.Bayesian ridge regression:"
   ]
  },
  {
   "cell_type": "code",
   "execution_count": 18,
   "metadata": {},
   "outputs": [],
   "source": [
    "# define a function: calcuate average MSE score based on 30 random testing:\n",
    "def BR_mse(X, Y):\n",
    "    mse_ls=np.empty(30)\n",
    "    r_ls=np.empty(30)\n",
    "    \n",
    "    for i in range(30):\n",
    "        X_train, X_test, Y_train, Y_test = \\\n",
    "        train_test_split(X, Y, test_size=0.3)\n",
    "        reg = linear_model.BayesianRidge()\n",
    "        reg.fit(X_train,Y_train)\n",
    "        preds = reg.predict(X_test)\n",
    "        mse_ls[i]=mean_squared_error(Y_test, preds)\n",
    "        r_ls[i]=r2_score(Y_test, preds)\n",
    "    \n",
    "    mse_score=np.mean(mse_ls)\n",
    "    r_score=np.mean(r_ls)\n",
    "    \n",
    "    return mse_score,r_score\n"
   ]
  },
  {
   "cell_type": "code",
   "execution_count": 19,
   "metadata": {},
   "outputs": [
    {
     "data": {
      "text/plain": [
       "(313.33174227278226, 0.7328600266372732)"
      ]
     },
     "execution_count": 19,
     "metadata": {},
     "output_type": "execute_result"
    }
   ],
   "source": [
    "BR_mse(X,Y)"
   ]
  },
  {
   "cell_type": "markdown",
   "metadata": {},
   "source": [
    "### III. Data Classfication:"
   ]
  },
  {
   "cell_type": "code",
   "execution_count": 20,
   "metadata": {},
   "outputs": [],
   "source": [
    "# order the critical temerpature group on feature data\n",
    "rank_ft=df_feat.sort_values(by=['critical_temp'], ascending=False)\n",
    "rank_ft=rank_ft.reset_index(drop=True)\n",
    "\n",
    "# lower temperature group:\n",
    "low=rank_ft[rank_ft.critical_temp <25]\n",
    "# medium temperature group:\n",
    "medium=rank_ft[(rank_ft.critical_temp > 25) & (rank_ft.critical_temp <= 100)]\n",
    "# higher temperature group:\n",
    "high=rank_ft[rank_ft.critical_temp > 100]\n",
    "\n",
    "# add the category labels for the ranked feature dataset\n",
    "rank_ft['temp_category'] = 'low'\n",
    "rank_ft.loc[rank_ft['critical_temp'] > 25,'temp_category'] = 'medium'\n",
    "rank_ft.loc[rank_ft['critical_temp'] > 100,'temp_category'] = 'high'"
   ]
  },
  {
   "cell_type": "code",
   "execution_count": 81,
   "metadata": {},
   "outputs": [],
   "source": [
    "# data preparation for three temperature group:\n",
    "X_low=low.iloc[:,0:81]\n",
    "Y_low=low['critical_temp'].astype(\"float\")\n",
    "\n",
    "X_med=medium.iloc[:,0:81]\n",
    "Y_med=medium['critical_temp'].astype(\"float\")\n",
    "\n",
    "X_high=high.iloc[:,0:81]\n",
    "Y_high=high['critical_temp'].astype(\"float\")"
   ]
  },
  {
   "cell_type": "markdown",
   "metadata": {},
   "source": [
    "#### *refit model"
   ]
  },
  {
   "cell_type": "code",
   "execution_count": 86,
   "metadata": {
    "scrolled": true
   },
   "outputs": [
    {
     "name": "stdout",
     "output_type": "stream",
     "text": [
      "(22.946497463558263, 0.4767230205557212)\n",
      "(22.974097636416513, 0.4756737023508969)\n",
      "(23.649812383877745, 0.4606376725633465)\n"
     ]
    }
   ],
   "source": [
    "# low temperature:\n",
    "print(MLR_mse(X_low, Y_low))\n",
    "print(RID_mse(X_low, Y_low))\n",
    "print(BR_mse(X_low, Y_low))"
   ]
  },
  {
   "cell_type": "code",
   "execution_count": 87,
   "metadata": {},
   "outputs": [
    {
     "name": "stdout",
     "output_type": "stream",
     "text": [
      "(259.40065478082954, 0.5166815213341401)\n",
      "(264.2284463624121, 0.5076803991220765)\n",
      "(270.75275798859747, 0.49555588479031865)\n"
     ]
    }
   ],
   "source": [
    "# medium temperature:\n",
    "print(MLR_mse(X_med, Y_med))\n",
    "print(RID_mse(X_med, Y_med))\n",
    "print(BR_mse(X_med, Y_med))"
   ]
  },
  {
   "cell_type": "code",
   "execution_count": 88,
   "metadata": {},
   "outputs": [
    {
     "name": "stdout",
     "output_type": "stream",
     "text": [
      "(156.67447660516734, -0.5435026208217233)\n",
      "(189.1305950064869, -0.8694435665545256)\n",
      "(73.2976641498302, 0.306133858000212)\n"
     ]
    }
   ],
   "source": [
    "# high temperature:\n",
    "print(MLR_mse(X_high, Y_high))\n",
    "print(RID_mse(X_high, Y_high))\n",
    "print(BR_mse(X_high, Y_high))"
   ]
  },
  {
   "cell_type": "markdown",
   "metadata": {},
   "source": [
    "### IV. PCA: Dimension Reduction"
   ]
  },
  {
   "cell_type": "code",
   "execution_count": 57,
   "metadata": {},
   "outputs": [
    {
     "name": "stderr",
     "output_type": "stream",
     "text": [
      "/Users/Sssiyuan/anaconda3/lib/python3.7/site-packages/sklearn/preprocessing/data.py:625: DataConversionWarning: Data with input dtype int64, float64 were all converted to float64 by StandardScaler.\n",
      "  return self.partial_fit(X, y)\n",
      "/Users/Sssiyuan/anaconda3/lib/python3.7/site-packages/sklearn/base.py:462: DataConversionWarning: Data with input dtype int64, float64 were all converted to float64 by StandardScaler.\n",
      "  return self.fit(X, **fit_params).transform(X)\n"
     ]
    }
   ],
   "source": [
    "# Standardizing the features\n",
    "rank_X=rank_ft.iloc[:,0:81]\n",
    "X_pca = StandardScaler().fit_transform(rank_X)\n",
    "\n",
    "# apply PCA algorithm\n",
    "pca = PCA(n_components=2)\n",
    "principalComponents = pca.fit_transform(X_pca)\n",
    "principalDf = pd.DataFrame(data = principalComponents, columns = ['principal component 1', 'principal component 2'])\n",
    "\n",
    "LSTDf = pd.concat([principalDf, rank_ft[['temp_category']]], axis = 1)"
   ]
  },
  {
   "cell_type": "code",
   "execution_count": 46,
   "metadata": {},
   "outputs": [
    {
     "data": {
      "text/plain": [
       "Text(0.5, 1.0, 'PCA with 2 component')"
      ]
     },
     "execution_count": 46,
     "metadata": {},
     "output_type": "execute_result"
    },
    {
     "data": {
      "image/png": "[encoded data removed]",
      "text/plain": [
       "<Figure size 432x288 with 1 Axes>"
      ]
     },
     "metadata": {
      "needs_background": "light"
     },
     "output_type": "display_data"
    }
   ],
   "source": [
    "# plot the PCA\n",
    "g = sns.scatterplot(x=\"principal component 1\", y=\"principal component 2\",\n",
    "              hue=\"temp_category\",palette='colorblind', \n",
    "              data=LSTDf)\n",
    "g.set_title('PCA with 2 component')"
   ]
  },
  {
   "cell_type": "code",
   "execution_count": 52,
   "metadata": {},
   "outputs": [
    {
     "data": {
      "text/plain": [
       "0.5058599295655499"
      ]
     },
     "execution_count": 52,
     "metadata": {},
     "output_type": "execute_result"
    }
   ],
   "source": [
    "# Reconstruction error: mean squared distance between the original data and the reconstructed data\n",
    "X_recovered=pca.inverse_transform(principalComponents)\n",
    "mean_squared_error(X_pca, X_recovered)"
   ]
  },
  {
   "cell_type": "markdown",
   "metadata": {},
   "source": [
    "#### * Refit models with PCA tranformed data:"
   ]
  },
  {
   "cell_type": "markdown",
   "metadata": {},
   "source": [
    "#### 1. Low temp group:"
   ]
  },
  {
   "cell_type": "code",
   "execution_count": 92,
   "metadata": {},
   "outputs": [
    {
     "name": "stdout",
     "output_type": "stream",
     "text": [
      "36.33044688193627\n",
      "36.33044688193726\n",
      "36.330513736578794\n"
     ]
    }
   ],
   "source": [
    "## fit group data \n",
    "X_train, X_test, Y_train, Y_test = \\\n",
    "train_test_split(X_low, Y_low, test_size=0.3)\n",
    "\n",
    "pca = PCA(n_components=2)\n",
    "pca.fit(X_train)\n",
    "\n",
    "X_train= pca.transform(X_train)\n",
    "X_test = pca.transform(X_test)\n",
    "\n",
    "# linear regression\n",
    "lr=LinearRegression(fit_intercept=True)\n",
    "lr.fit(X_train,Y_train)\n",
    "preds = lr.predict(X_test)\n",
    "mse_ls_ols=mean_squared_error(Y_test, preds)\n",
    "\n",
    "# ridge regression\n",
    "reg = linear_model.Ridge(alpha=.5)\n",
    "reg.fit(X_train,Y_train)\n",
    "preds = reg.predict(X_test)\n",
    "mse_ls_rid=mean_squared_error(Y_test, preds)\n",
    "\n",
    "# bayseian regression\n",
    "bay = linear_model.BayesianRidge()\n",
    "bay.fit(X_train,Y_train)\n",
    "preds = bay.predict(X_test)\n",
    "mse_ls_bay=mean_squared_error(Y_test, preds)\n",
    "\n",
    "print(mse_ls_ols)\n",
    "print(mse_ls_rid)\n",
    "print(mse_ls_bay)"
   ]
  },
  {
   "cell_type": "markdown",
   "metadata": {},
   "source": [
    "#### 2. Medium temp group:"
   ]
  },
  {
   "cell_type": "code",
   "execution_count": 93,
   "metadata": {},
   "outputs": [
    {
     "name": "stdout",
     "output_type": "stream",
     "text": [
      "502.33640666152934\n",
      "502.3364066616013\n",
      "502.35854974110964\n"
     ]
    }
   ],
   "source": [
    "## fit group data \n",
    "X_train, X_test, Y_train, Y_test = \\\n",
    "train_test_split(X_med, Y_med, test_size=0.3)\n",
    "\n",
    "pca = PCA(n_components=2)\n",
    "pca.fit(X_train)\n",
    "\n",
    "X_train= pca.transform(X_train)\n",
    "X_test = pca.transform(X_test)\n",
    "\n",
    "# linear regression\n",
    "lr=LinearRegression(fit_intercept=True)\n",
    "lr.fit(X_train,Y_train)\n",
    "preds = lr.predict(X_test)\n",
    "mse_ls_ols=mean_squared_error(Y_test, preds)\n",
    "\n",
    "# ridge regression\n",
    "reg = linear_model.Ridge(alpha=.5)\n",
    "reg.fit(X_train,Y_train)\n",
    "preds = reg.predict(X_test)\n",
    "mse_ls_rid=mean_squared_error(Y_test, preds)\n",
    "\n",
    "# bayseian regression\n",
    "bay = linear_model.BayesianRidge()\n",
    "bay.fit(X_train,Y_train)\n",
    "preds = bay.predict(X_test)\n",
    "mse_ls_bay=mean_squared_error(Y_test, preds)\n",
    "\n",
    "print(mse_ls_ols)\n",
    "print(mse_ls_rid)\n",
    "print(mse_ls_bay)"
   ]
  },
  {
   "cell_type": "markdown",
   "metadata": {},
   "source": [
    "#### 3. High temp group:"
   ]
  },
  {
   "cell_type": "code",
   "execution_count": 95,
   "metadata": {},
   "outputs": [
    {
     "name": "stdout",
     "output_type": "stream",
     "text": [
      "78.22160183501472\n",
      "78.22160183569379\n",
      "78.2783575190982\n"
     ]
    }
   ],
   "source": [
    "## fit group data \n",
    "X_train, X_test, Y_train, Y_test = \\\n",
    "train_test_split(X_high, Y_high, test_size=0.3)\n",
    "\n",
    "pca = PCA(n_components=2)\n",
    "pca.fit(X_train)\n",
    "\n",
    "X_train= pca.transform(X_train)\n",
    "X_test = pca.transform(X_test)\n",
    "\n",
    "# linear regression\n",
    "lr=LinearRegression(fit_intercept=True)\n",
    "lr.fit(X_train,Y_train)\n",
    "preds = lr.predict(X_test)\n",
    "mse_ls_ols=mean_squared_error(Y_test, preds)\n",
    "\n",
    "# ridge regression\n",
    "reg = linear_model.Ridge(alpha=.5)\n",
    "reg.fit(X_train,Y_train)\n",
    "preds = reg.predict(X_test)\n",
    "mse_ls_rid=mean_squared_error(Y_test, preds)\n",
    "\n",
    "# bayseian regression\n",
    "bay = linear_model.BayesianRidge()\n",
    "bay.fit(X_train,Y_train)\n",
    "preds = bay.predict(X_test)\n",
    "mse_ls_bay=mean_squared_error(Y_test, preds)\n",
    "\n",
    "print(mse_ls_ols)\n",
    "print(mse_ls_rid)\n",
    "print(mse_ls_bay)"
   ]
  },
  {
   "cell_type": "markdown",
   "metadata": {},
   "source": [
    "#### *regression summary"
   ]
  },
  {
   "cell_type": "code",
   "execution_count": 155,
   "metadata": {},
   "outputs": [
    {
     "data": {
      "text/html": [
       "<div>\n",
       "<style scoped>\n",
       "    .dataframe tbody tr th:only-of-type {\n",
       "        vertical-align: middle;\n",
       "    }\n",
       "\n",
       "    .dataframe tbody tr th {\n",
       "        vertical-align: top;\n",
       "    }\n",
       "\n",
       "    .dataframe thead th {\n",
       "        text-align: right;\n",
       "    }\n",
       "</style>\n",
       "<table border=\"1\" class=\"dataframe\">\n",
       "  <thead>\n",
       "    <tr style=\"text-align: right;\">\n",
       "      <th></th>\n",
       "      <th>index</th>\n",
       "      <th>coeff</th>\n",
       "    </tr>\n",
       "  </thead>\n",
       "  <tbody>\n",
       "    <tr>\n",
       "      <th>0</th>\n",
       "      <td>15</td>\n",
       "      <td>118.698809</td>\n",
       "    </tr>\n",
       "    <tr>\n",
       "      <th>1</th>\n",
       "      <td>25</td>\n",
       "      <td>79.316279</td>\n",
       "    </tr>\n",
       "    <tr>\n",
       "      <th>2</th>\n",
       "      <td>75</td>\n",
       "      <td>74.410146</td>\n",
       "    </tr>\n",
       "    <tr>\n",
       "      <th>3</th>\n",
       "      <td>76</td>\n",
       "      <td>70.369471</td>\n",
       "    </tr>\n",
       "    <tr>\n",
       "      <th>4</th>\n",
       "      <td>26</td>\n",
       "      <td>44.824225</td>\n",
       "    </tr>\n",
       "    <tr>\n",
       "      <th>5</th>\n",
       "      <td>16</td>\n",
       "      <td>44.143936</td>\n",
       "    </tr>\n",
       "    <tr>\n",
       "      <th>6</th>\n",
       "      <td>5</td>\n",
       "      <td>35.960594</td>\n",
       "    </tr>\n",
       "    <tr>\n",
       "      <th>7</th>\n",
       "      <td>74</td>\n",
       "      <td>28.397135</td>\n",
       "    </tr>\n",
       "    <tr>\n",
       "      <th>8</th>\n",
       "      <td>56</td>\n",
       "      <td>25.439655</td>\n",
       "    </tr>\n",
       "    <tr>\n",
       "      <th>9</th>\n",
       "      <td>80</td>\n",
       "      <td>25.024617</td>\n",
       "    </tr>\n",
       "  </tbody>\n",
       "</table>\n",
       "</div>"
      ],
      "text/plain": [
       "   index       coeff\n",
       "0     15  118.698809\n",
       "1     25   79.316279\n",
       "2     75   74.410146\n",
       "3     76   70.369471\n",
       "4     26   44.824225\n",
       "5     16   44.143936\n",
       "6      5   35.960594\n",
       "7     74   28.397135\n",
       "8     56   25.439655\n",
       "9     80   25.024617"
      ]
     },
     "execution_count": 155,
     "metadata": {},
     "output_type": "execute_result"
    }
   ],
   "source": [
    "# refit the linear regression model\n",
    "lr=LinearRegression(fit_intercept=True)\n",
    "X=df_feat.iloc[:,0:81]\n",
    "Y=temp_label.astype(\"float\")\n",
    "lr.fit(X,Y)\n",
    "\n",
    "# find the 10 most important beta values in the model\n",
    "coef=list(lr.coef_)\n",
    "coef= [abs(x) for x in coef]\n",
    "rank_coef=pd.DataFrame(coef, columns=['coeff'])\n",
    "rank_coef=rank_coef.sort_values(by=['coeff'], ascending=False)\n",
    "rank_coef=rank_coef.reset_index()\n",
    "rank_coef[0:10]"
   ]
  },
  {
   "cell_type": "markdown",
   "metadata": {},
   "source": [
    "### V. K-Nearest neighbors classifier\n"
   ]
  },
  {
   "cell_type": "code",
   "execution_count": 167,
   "metadata": {},
   "outputs": [],
   "source": [
    "# define a function: calcuate average MSE score based on 30 random testing:\n",
    "def KNN_mse(X, Y, k):\n",
    "    mse_ls=np.empty(30)\n",
    "    \n",
    "    for i in range(30):\n",
    "        X_train, X_test, Y_train, Y_test = \\\n",
    "        train_test_split(X, Y, test_size=0.3)\n",
    "        knn = KNeighborsClassifier(n_neighbors = k)\n",
    "        knn.fit(X_train,Y_train)\n",
    "        preds = knn.predict(X_test)\n",
    "        preds=preds.astype(float)\n",
    "        Y_test=Y_test.astype(float)\n",
    "        mse_ls[i]=mean_squared_error(Y_test, preds)\n",
    "    \n",
    "    mse_score=np.mean(mse_ls)\n",
    "    \n",
    "    return mse_score"
   ]
  },
  {
   "cell_type": "code",
   "execution_count": null,
   "metadata": {},
   "outputs": [],
   "source": [
    "# KNN data preparation\n",
    "Y=Y.astype(str)\n",
    "Y_low=Y_low.astype(str)\n",
    "Y_med=Y_med.astype(str)\n",
    "Y_high=Y_high.astype(str)"
   ]
  },
  {
   "cell_type": "markdown",
   "metadata": {},
   "source": [
    "#### 1.k=1"
   ]
  },
  {
   "cell_type": "code",
   "execution_count": 168,
   "metadata": {},
   "outputs": [
    {
     "name": "stdout",
     "output_type": "stream",
     "text": [
      "158.50964175574134\n",
      "16.841576614122435\n",
      "204.6548284089248\n",
      "76.30963926767677\n"
     ]
    }
   ],
   "source": [
    "print(KNN_mse(X,Y,1))\n",
    "print(KNN_mse(X_low,Y_low,1))\n",
    "print(KNN_mse(X_med,Y_med,1))\n",
    "print(KNN_mse(X_high,Y_high,1))"
   ]
  },
  {
   "cell_type": "markdown",
   "metadata": {},
   "source": [
    "#### 2.k=2"
   ]
  },
  {
   "cell_type": "code",
   "execution_count": 169,
   "metadata": {},
   "outputs": [
    {
     "name": "stdout",
     "output_type": "stream",
     "text": [
      "195.14488647578486\n",
      "18.650424216464913\n",
      "240.27667572982853\n",
      "79.50357923520924\n"
     ]
    }
   ],
   "source": [
    "print(KNN_mse(X,Y,2))\n",
    "print(KNN_mse(X_low,Y_low,2))\n",
    "print(KNN_mse(X_med,Y_med,2))\n",
    "print(KNN_mse(X_high,Y_high,2))"
   ]
  },
  {
   "cell_type": "markdown",
   "metadata": {},
   "source": [
    "#### 3.k=5"
   ]
  },
  {
   "cell_type": "code",
   "execution_count": 170,
   "metadata": {},
   "outputs": [
    {
     "name": "stdout",
     "output_type": "stream",
     "text": [
      "319.86309125202996\n",
      "25.11761188082549\n",
      "412.56028901797475\n",
      "122.41125642857143\n"
     ]
    }
   ],
   "source": [
    "print(KNN_mse(X,Y,5))\n",
    "print(KNN_mse(X_low,Y_low,5))\n",
    "print(KNN_mse(X_med,Y_med,5))\n",
    "print(KNN_mse(X_high,Y_high,5))"
   ]
  },
  {
   "cell_type": "markdown",
   "metadata": {},
   "source": [
    "#### 4.k=10"
   ]
  },
  {
   "cell_type": "code",
   "execution_count": 166,
   "metadata": {},
   "outputs": [
    {
     "name": "stdout",
     "output_type": "stream",
     "text": [
      "424.0413078334177\n",
      "31.29001477936724\n",
      "540.5724503587934\n",
      "124.86436585497835\n"
     ]
    }
   ],
   "source": [
    "print(KNN_mse(X,Y,10))\n",
    "print(KNN_mse(X_low,Y_low,10))\n",
    "print(KNN_mse(X_med,Y_med,10))\n",
    "print(KNN_mse(X_high,Y_high,10))"
   ]
  }
 ],
 "metadata": {
  "kernelspec": {
   "display_name": "Python 3",
   "language": "python",
   "name": "python3"
  },
  "language_info": {
   "codemirror_mode": {
    "name": "ipython",
    "version": 3
   },
   "file_extension": ".py",
   "mimetype": "text/x-python",
   "name": "python",
   "nbconvert_exporter": "python",
   "pygments_lexer": "ipython3",
   "version": "3.7.1"
  }
 },
 "nbformat": 4,
 "nbformat_minor": 2
}
